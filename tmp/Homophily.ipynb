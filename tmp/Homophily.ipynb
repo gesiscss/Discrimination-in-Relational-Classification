{
 "cells": [
  {
   "cell_type": "code",
   "execution_count": 1,
   "metadata": {},
   "outputs": [],
   "source": [
    "%load_ext autoreload\n",
    "%autoreload 2\n",
    "\n",
    "import numpy as np\n",
    "from homophily import get_homophily_MLE\n",
    "from homophily import get_minority_fraction\n",
    "from homophily import load_graph\n",
    "from homophily import generate_E_values\n",
    "from homophily import find_homophily_MLE"
   ]
  },
  {
   "cell_type": "code",
   "execution_count": 2,
   "metadata": {},
   "outputs": [
    {
     "data": {
      "text/plain": [
       "{0.15, 0.33, 0.4, 0.49}"
      ]
     },
     "execution_count": 2,
     "metadata": {},
     "output_type": "execute_result"
    }
   ],
   "source": [
    "### 1.\n",
    "### Minority fractions of interest (from empirical networks)\n",
    "fms = set()\n",
    "for dataset in ['Caltech36','Escorts','Swarthmore42','USF512009','Wikipedia']:\n",
    "    fn = '../data/{}.gpickle'.format(dataset)\n",
    "    g = load_graph(fn)\n",
    "    fm = get_minority_fraction(g)\n",
    "    fms.add(round(fm,2))\n",
    "    del(g)\n",
    "fms"
   ]
  },
  {
   "cell_type": "code",
   "execution_count": 3,
   "metadata": {
    "scrolled": true
   },
   "outputs": [
    {
     "name": "stdout",
     "output_type": "stream",
     "text": [
      "synthetic_evalues.csv loading...\n"
     ]
    },
    {
     "data": {
      "text/html": [
       "<div>\n",
       "<style scoped>\n",
       "    .dataframe tbody tr th:only-of-type {\n",
       "        vertical-align: middle;\n",
       "    }\n",
       "\n",
       "    .dataframe tbody tr th {\n",
       "        vertical-align: top;\n",
       "    }\n",
       "\n",
       "    .dataframe thead th {\n",
       "        text-align: right;\n",
       "    }\n",
       "</style>\n",
       "<table border=\"1\" class=\"dataframe\">\n",
       "  <thead>\n",
       "    <tr style=\"text-align: right;\">\n",
       "      <th></th>\n",
       "      <th>N</th>\n",
       "      <th>m</th>\n",
       "      <th>fm</th>\n",
       "      <th>hmm</th>\n",
       "      <th>hMM</th>\n",
       "      <th>emm</th>\n",
       "      <th>eMM</th>\n",
       "      <th>emM</th>\n",
       "      <th>eMm</th>\n",
       "    </tr>\n",
       "  </thead>\n",
       "  <tbody>\n",
       "    <tr>\n",
       "      <th>0</th>\n",
       "      <td>1000</td>\n",
       "      <td>2</td>\n",
       "      <td>0.33</td>\n",
       "      <td>0.0</td>\n",
       "      <td>0.00</td>\n",
       "      <td>0.0</td>\n",
       "      <td>0.000000</td>\n",
       "      <td>0.667674</td>\n",
       "      <td>0.332326</td>\n",
       "    </tr>\n",
       "    <tr>\n",
       "      <th>1</th>\n",
       "      <td>1000</td>\n",
       "      <td>2</td>\n",
       "      <td>0.40</td>\n",
       "      <td>0.0</td>\n",
       "      <td>0.00</td>\n",
       "      <td>0.0</td>\n",
       "      <td>0.000000</td>\n",
       "      <td>0.597180</td>\n",
       "      <td>0.402820</td>\n",
       "    </tr>\n",
       "    <tr>\n",
       "      <th>2</th>\n",
       "      <td>1000</td>\n",
       "      <td>2</td>\n",
       "      <td>0.49</td>\n",
       "      <td>0.0</td>\n",
       "      <td>0.00</td>\n",
       "      <td>0.0</td>\n",
       "      <td>0.000000</td>\n",
       "      <td>0.510030</td>\n",
       "      <td>0.489970</td>\n",
       "    </tr>\n",
       "    <tr>\n",
       "      <th>3</th>\n",
       "      <td>1000</td>\n",
       "      <td>2</td>\n",
       "      <td>0.15</td>\n",
       "      <td>0.0</td>\n",
       "      <td>0.00</td>\n",
       "      <td>0.0</td>\n",
       "      <td>0.000000</td>\n",
       "      <td>0.847638</td>\n",
       "      <td>0.152362</td>\n",
       "    </tr>\n",
       "    <tr>\n",
       "      <th>4</th>\n",
       "      <td>1000</td>\n",
       "      <td>2</td>\n",
       "      <td>0.33</td>\n",
       "      <td>0.0</td>\n",
       "      <td>0.01</td>\n",
       "      <td>0.0</td>\n",
       "      <td>0.002505</td>\n",
       "      <td>0.666834</td>\n",
       "      <td>0.330661</td>\n",
       "    </tr>\n",
       "  </tbody>\n",
       "</table>\n",
       "</div>"
      ],
      "text/plain": [
       "      N  m    fm  hmm   hMM  emm       eMM       emM       eMm\n",
       "0  1000  2  0.33  0.0  0.00  0.0  0.000000  0.667674  0.332326\n",
       "1  1000  2  0.40  0.0  0.00  0.0  0.000000  0.597180  0.402820\n",
       "2  1000  2  0.49  0.0  0.00  0.0  0.000000  0.510030  0.489970\n",
       "3  1000  2  0.15  0.0  0.00  0.0  0.000000  0.847638  0.152362\n",
       "4  1000  2  0.33  0.0  0.01  0.0  0.002505  0.666834  0.330661"
      ]
     },
     "execution_count": 3,
     "metadata": {},
     "output_type": "execute_result"
    }
   ],
   "source": [
    "### 2.\n",
    "### create csv with values of e from synthetic networks \n",
    "### for fm in [0.1,0.2,0.3,0.4,0.5] (or take the fm values from empirical)\n",
    "### and hmm (hMM) in np.arange(0.00, 1.01, 0.01)\n",
    "fn = 'synthetic_evalues.csv'\n",
    "df = generate_E_values(fms, fn=fn, njobs=40)\n",
    "df.head()"
   ]
  },
  {
   "cell_type": "code",
   "execution_count": 4,
   "metadata": {
    "scrolled": true
   },
   "outputs": [
    {
     "name": "stdout",
     "output_type": "stream",
     "text": [
      "dataset: Caltech36       hmm:0.63 hMM:0.44\n",
      "dataset: Escorts         hmm:0.00 hMM:0.00\n",
      "dataset: Swarthmore42    hmm:0.54 hMM:0.51\n",
      "dataset: USF512009       hmm:0.38 hMM:0.42\n",
      "dataset: Wikipedia       hmm:0.71 hMM:0.60\n"
     ]
    }
   ],
   "source": [
    "### 3. \n",
    "### load csv from 1\n",
    "### for each empirical network compute E values and fm (minority_fraction)\n",
    "### and compute difference from synthetic of the same fm\n",
    "### take hmm and hMM from the smallest difference\n",
    "datasets = ['Caltech36', 'Escorts','Swarthmore42','USF512009','Wikipedia']\n",
    "for dataset in datasets:\n",
    "    G = load_graph('../data/{}.gpickle'.format(dataset))\n",
    "    hmm,hMM = find_homophily_MLE(G, df)\n",
    "    print('dataset: {:15s} hmm:{:.2f} hMM:{:.2f}'.format(dataset, hmm, hMM))"
   ]
  },
  {
   "cell_type": "code",
   "execution_count": null,
   "metadata": {},
   "outputs": [],
   "source": []
  }
 ],
 "metadata": {
  "kernelspec": {
   "display_name": "Python 3",
   "language": "python",
   "name": "python3"
  },
  "language_info": {
   "codemirror_mode": {
    "name": "ipython",
    "version": 3
   },
   "file_extension": ".py",
   "mimetype": "text/x-python",
   "name": "python",
   "nbconvert_exporter": "python",
   "pygments_lexer": "ipython3",
   "version": "3.5.2"
  }
 },
 "nbformat": 4,
 "nbformat_minor": 2
}
