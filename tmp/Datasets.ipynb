{
 "cells": [
  {
   "cell_type": "code",
   "execution_count": 1,
   "metadata": {},
   "outputs": [],
   "source": [
    "%load_ext autoreload\n",
    "%autoreload 2\n",
    "\n",
    "import pandas as pd\n",
    "from homophily import load_graph\n",
    "from homophily import get_minority_fraction\n",
    "from homophily import get_edge_type_counts\n",
    "from homophily import get_outdegree_powerlaw_exponents"
   ]
  },
  {
   "cell_type": "code",
   "execution_count": 2,
   "metadata": {},
   "outputs": [
    {
     "name": "stderr",
     "output_type": "stream",
     "text": [
      "/ssd/lespin/virtualenv/python3.5/lib/python3.5/site-packages/powerlaw.py:700: RuntimeWarning: invalid value encountered in true_divide\n",
      "  (Theoretical_CDF * (1 - Theoretical_CDF))\n",
      "/ssd/lespin/virtualenv/python3.5/lib/python3.5/site-packages/powerlaw.py:700: RuntimeWarning: divide by zero encountered in true_divide\n",
      "  (Theoretical_CDF * (1 - Theoretical_CDF))\n"
     ]
    }
   ],
   "source": [
    "columns = ['dataset','N','fm','E','Emm','EMM','EmM','gammam','gammaM']\n",
    "df_details = pd.DataFrame(columns=columns)\n",
    "\n",
    "datasets = ['Caltech36', 'Escorts','Swarthmore42','USF512009','Wikipedia']\n",
    "for dataset in datasets:\n",
    "    g = load_graph('../data/{}.gpickle'.format(dataset))\n",
    "    fm = get_minority_fraction(g)\n",
    "    Emm, EMm, EmM, EMM = get_edge_type_counts(g)\n",
    "    fitm, fitM = get_outdegree_powerlaw_exponents(g)\n",
    "    \n",
    "    gamma_M, xmin_M, xmax_M = fitM.power_law.alpha, fitM.power_law.xmin, fitM.power_law.xmax\n",
    "    gamma_m, xmin_m, xmax_m = fitm.power_law.alpha, fitm.power_law.xmin, fitm.power_law.xmax\n",
    "    \n",
    "    df_details = df_details.append(pd.DataFrame({'dataset': dataset,\n",
    "                                                 'N': g.number_of_nodes(),\n",
    "                                                 'fm': fm,\n",
    "                                                 'E': g.number_of_edges(),\n",
    "                                                 'Emm': Emm,\n",
    "                                                 'EMM': EMM,\n",
    "                                                 'EmM': EmM+EMm,\n",
    "                                                 'gammam': gamma_m,\n",
    "                                                 'gammaM': gamma_M,\n",
    "                                                },\n",
    "                                               columns=columns,\n",
    "                                               index=[0]), ignore_index=True)"
   ]
  },
  {
   "cell_type": "code",
   "execution_count": 3,
   "metadata": {},
   "outputs": [
    {
     "data": {
      "text/html": [
       "<div>\n",
       "<style scoped>\n",
       "    .dataframe tbody tr th:only-of-type {\n",
       "        vertical-align: middle;\n",
       "    }\n",
       "\n",
       "    .dataframe tbody tr th {\n",
       "        vertical-align: top;\n",
       "    }\n",
       "\n",
       "    .dataframe thead th {\n",
       "        text-align: right;\n",
       "    }\n",
       "</style>\n",
       "<table border=\"1\" class=\"dataframe\">\n",
       "  <thead>\n",
       "    <tr style=\"text-align: right;\">\n",
       "      <th></th>\n",
       "      <th>dataset</th>\n",
       "      <th>N</th>\n",
       "      <th>fm</th>\n",
       "      <th>E</th>\n",
       "      <th>Emm</th>\n",
       "      <th>EMM</th>\n",
       "      <th>EmM</th>\n",
       "      <th>gammam</th>\n",
       "      <th>gammaM</th>\n",
       "    </tr>\n",
       "  </thead>\n",
       "  <tbody>\n",
       "    <tr>\n",
       "      <th>0</th>\n",
       "      <td>Caltech36</td>\n",
       "      <td>701</td>\n",
       "      <td>0.325250</td>\n",
       "      <td>15464</td>\n",
       "      <td>2351</td>\n",
       "      <td>6267</td>\n",
       "      <td>6846</td>\n",
       "      <td>4.656218</td>\n",
       "      <td>3.526275</td>\n",
       "    </tr>\n",
       "    <tr>\n",
       "      <th>1</th>\n",
       "      <td>Escorts</td>\n",
       "      <td>16730</td>\n",
       "      <td>0.395935</td>\n",
       "      <td>39044</td>\n",
       "      <td>0</td>\n",
       "      <td>0</td>\n",
       "      <td>39044</td>\n",
       "      <td>2.477017</td>\n",
       "      <td>4.397491</td>\n",
       "    </tr>\n",
       "    <tr>\n",
       "      <th>2</th>\n",
       "      <td>Swarthmore42</td>\n",
       "      <td>1519</td>\n",
       "      <td>0.492429</td>\n",
       "      <td>53726</td>\n",
       "      <td>13689</td>\n",
       "      <td>14968</td>\n",
       "      <td>25069</td>\n",
       "      <td>4.997918</td>\n",
       "      <td>4.985283</td>\n",
       "    </tr>\n",
       "    <tr>\n",
       "      <th>3</th>\n",
       "      <td>USF512009</td>\n",
       "      <td>1705</td>\n",
       "      <td>0.404106</td>\n",
       "      <td>15597</td>\n",
       "      <td>1798</td>\n",
       "      <td>5271</td>\n",
       "      <td>8528</td>\n",
       "      <td>3.683327</td>\n",
       "      <td>4.631682</td>\n",
       "    </tr>\n",
       "    <tr>\n",
       "      <th>4</th>\n",
       "      <td>Wikipedia</td>\n",
       "      <td>2132</td>\n",
       "      <td>0.153377</td>\n",
       "      <td>3143</td>\n",
       "      <td>125</td>\n",
       "      <td>2434</td>\n",
       "      <td>584</td>\n",
       "      <td>3.610080</td>\n",
       "      <td>2.825921</td>\n",
       "    </tr>\n",
       "  </tbody>\n",
       "</table>\n",
       "</div>"
      ],
      "text/plain": [
       "        dataset      N        fm      E    Emm    EMM    EmM    gammam  \\\n",
       "0     Caltech36    701  0.325250  15464   2351   6267   6846  4.656218   \n",
       "1       Escorts  16730  0.395935  39044      0      0  39044  2.477017   \n",
       "2  Swarthmore42   1519  0.492429  53726  13689  14968  25069  4.997918   \n",
       "3     USF512009   1705  0.404106  15597   1798   5271   8528  3.683327   \n",
       "4     Wikipedia   2132  0.153377   3143    125   2434    584  3.610080   \n",
       "\n",
       "     gammaM  \n",
       "0  3.526275  \n",
       "1  4.397491  \n",
       "2  4.985283  \n",
       "3  4.631682  \n",
       "4  2.825921  "
      ]
     },
     "execution_count": 3,
     "metadata": {},
     "output_type": "execute_result"
    }
   ],
   "source": [
    "df_details"
   ]
  },
  {
   "cell_type": "code",
   "execution_count": 4,
   "metadata": {},
   "outputs": [],
   "source": [
    "df_details.to_csv('datasets.csv', index=False)"
   ]
  },
  {
   "cell_type": "code",
   "execution_count": null,
   "metadata": {},
   "outputs": [],
   "source": []
  }
 ],
 "metadata": {
  "kernelspec": {
   "display_name": "Python 3",
   "language": "python",
   "name": "python3"
  },
  "language_info": {
   "codemirror_mode": {
    "name": "ipython",
    "version": 3
   },
   "file_extension": ".py",
   "mimetype": "text/x-python",
   "name": "python",
   "nbconvert_exporter": "python",
   "pygments_lexer": "ipython3",
   "version": "3.5.2"
  }
 },
 "nbformat": 4,
 "nbformat_minor": 2
}
