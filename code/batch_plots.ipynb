{
 "cells": [
  {
   "cell_type": "code",
   "execution_count": 1,
   "metadata": {},
   "outputs": [],
   "source": [
    "__author__ = \"Lisette Espin\"\n",
    "__copyright__ = \"Copyright 2019, GESIS / USC-ISI\"\n",
    "__credits__ = [\"Lisette Espin-Noboa\", \n",
    "               \"Fariba Karimi\", \n",
    "               \"Bruno Ribeiro\",\n",
    "               \"Kristina Lerman\",\n",
    "               \"Claudia Wagner\"]\n",
    "__license__ = \"GPL\"\n",
    "__version__ = \"1.0.1\"\n",
    "__maintainer__ = \"Lisette Espin\"\n",
    "__email__ = \"lisette.espin@gesis.org\"\n",
    "__status__ = \"Development\""
   ]
  },
  {
   "cell_type": "markdown",
   "metadata": {},
   "source": [
    "<h1 style=\"text-align: center;\">Relational Classification Plots on Synthetic Networks</h1>"
   ]
  },
  {
   "cell_type": "markdown",
   "metadata": {},
   "source": [
    "<h2>Dependencies</h2>"
   ]
  },
  {
   "cell_type": "code",
   "execution_count": 2,
   "metadata": {},
   "outputs": [],
   "source": [
    "%load_ext autoreload\n",
    "%autoreload 2\n",
    "\n",
    "from org.gesis.network.network import Network\n",
    "from org.gesis.sampling.sampling import Sampling\n",
    "from org.gesis.local.local import Local\n",
    "from org.gesis.relational.relational import Relational\n",
    "from org.gesis.inference.inference import Inference\n",
    "from utils import viz\n",
    "from utils import io"
   ]
  },
  {
   "cell_type": "markdown",
   "metadata": {},
   "source": [
    "<h2>Parameters</h2>"
   ]
  },
  {
   "cell_type": "code",
   "execution_count": 3,
   "metadata": {},
   "outputs": [],
   "source": [
    "kind = \"BAH\"                    # network generative model type\n",
    "N = 2000                        # number of nodes\n",
    "m = 4                           # minimun degree (proxy of density)\n",
    "H = 0.6                         # homophily\n",
    "B = 0.5                         # class balance (minority fraction)\n",
    "sampling = \"all\"              # subgraph sampling method (nodes, nedges, degree, neighbors, partial_crawls)\n",
    "pseeds = 0.2                    # fraction of nodes to sample \n",
    "LC = \"prior\"                    # local model\n",
    "RC = \"nBC\"                      # relational model\n",
    "CI = \"relaxation\"               # inference\n",
    "IGNORE = 0                      # IGNORE class value\n",
    "OUTPUT = \"../results-individual\"   # directory to store results\n",
    "LATEX = True"
   ]
  },
  {
   "cell_type": "markdown",
   "metadata": {},
   "source": [
    "<h2>Load results</h2>"
   ]
  },
  {
   "cell_type": "code",
   "execution_count": 4,
   "metadata": {},
   "outputs": [
    {
     "data": {
      "text/plain": [
       "(9, 19)"
      ]
     },
     "execution_count": 4,
     "metadata": {},
     "output_type": "execute_result"
    }
   ],
   "source": [
    "df_results_original = Inference.get_all_results_as_dataframe(OUTPUT, kind, sampling=sampling, njobs=1, verbose=False)\n",
    "df_results_original.shape"
   ]
  },
  {
   "cell_type": "code",
   "execution_count": 5,
   "metadata": {
    "scrolled": true
   },
   "outputs": [
    {
     "data": {
      "text/html": [
       "<div>\n",
       "<style scoped>\n",
       "    .dataframe tbody tr th:only-of-type {\n",
       "        vertical-align: middle;\n",
       "    }\n",
       "\n",
       "    .dataframe tbody tr th {\n",
       "        vertical-align: top;\n",
       "    }\n",
       "\n",
       "    .dataframe thead th {\n",
       "        text-align: right;\n",
       "    }\n",
       "</style>\n",
       "<table border=\"1\" class=\"dataframe\">\n",
       "  <thead>\n",
       "    <tr style=\"text-align: right;\">\n",
       "      <th></th>\n",
       "      <th>N</th>\n",
       "      <th>m</th>\n",
       "      <th>B</th>\n",
       "      <th>H</th>\n",
       "      <th>i</th>\n",
       "      <th>x</th>\n",
       "      <th>sampling</th>\n",
       "      <th>pseeds</th>\n",
       "      <th>epoch</th>\n",
       "      <th>n</th>\n",
       "      <th>e</th>\n",
       "      <th>min\\_{degree}</th>\n",
       "      <th>ROCAUC</th>\n",
       "      <th>mae</th>\n",
       "      <th>ccm</th>\n",
       "      <th>ccM</th>\n",
       "      <th>bias</th>\n",
       "      <th>lag</th>\n",
       "      <th>network\\_{size}</th>\n",
       "    </tr>\n",
       "  </thead>\n",
       "  <tbody>\n",
       "    <tr>\n",
       "      <td>0</td>\n",
       "      <td>2000</td>\n",
       "      <td>4</td>\n",
       "      <td>0.5</td>\n",
       "      <td>0.8</td>\n",
       "      <td>1</td>\n",
       "      <td>1</td>\n",
       "      <td>nedges</td>\n",
       "      <td>0.8</td>\n",
       "      <td>1</td>\n",
       "      <td>2000</td>\n",
       "      <td>7984</td>\n",
       "      <td>4</td>\n",
       "      <td>0.977541</td>\n",
       "      <td>0.097500</td>\n",
       "      <td>0.913265</td>\n",
       "      <td>0.892157</td>\n",
       "      <td>0.505846</td>\n",
       "      <td>105.447222</td>\n",
       "      <td>N2000, m4</td>\n",
       "    </tr>\n",
       "    <tr>\n",
       "      <td>1</td>\n",
       "      <td>2000</td>\n",
       "      <td>4</td>\n",
       "      <td>0.5</td>\n",
       "      <td>0.1</td>\n",
       "      <td>1</td>\n",
       "      <td>1</td>\n",
       "      <td>nedges</td>\n",
       "      <td>0.2</td>\n",
       "      <td>1</td>\n",
       "      <td>2000</td>\n",
       "      <td>7984</td>\n",
       "      <td>4</td>\n",
       "      <td>0.998452</td>\n",
       "      <td>0.020638</td>\n",
       "      <td>0.985056</td>\n",
       "      <td>0.973618</td>\n",
       "      <td>0.502920</td>\n",
       "      <td>481.337838</td>\n",
       "      <td>N2000, m4</td>\n",
       "    </tr>\n",
       "    <tr>\n",
       "      <td>2</td>\n",
       "      <td>2000</td>\n",
       "      <td>4</td>\n",
       "      <td>0.1</td>\n",
       "      <td>0.1</td>\n",
       "      <td>1</td>\n",
       "      <td>1</td>\n",
       "      <td>nodes</td>\n",
       "      <td>0.2</td>\n",
       "      <td>1</td>\n",
       "      <td>2000</td>\n",
       "      <td>7984</td>\n",
       "      <td>4</td>\n",
       "      <td>0.997123</td>\n",
       "      <td>0.021875</td>\n",
       "      <td>0.823171</td>\n",
       "      <td>0.995822</td>\n",
       "      <td>0.452542</td>\n",
       "      <td>661.314135</td>\n",
       "      <td>N2000, m4</td>\n",
       "    </tr>\n",
       "    <tr>\n",
       "      <td>3</td>\n",
       "      <td>2000</td>\n",
       "      <td>4</td>\n",
       "      <td>0.3</td>\n",
       "      <td>0.1</td>\n",
       "      <td>1</td>\n",
       "      <td>1</td>\n",
       "      <td>nodes</td>\n",
       "      <td>0.8</td>\n",
       "      <td>1</td>\n",
       "      <td>2000</td>\n",
       "      <td>7984</td>\n",
       "      <td>4</td>\n",
       "      <td>0.999495</td>\n",
       "      <td>0.025000</td>\n",
       "      <td>0.937008</td>\n",
       "      <td>0.992674</td>\n",
       "      <td>0.485576</td>\n",
       "      <td>140.577953</td>\n",
       "      <td>N2000, m4</td>\n",
       "    </tr>\n",
       "    <tr>\n",
       "      <td>4</td>\n",
       "      <td>2000</td>\n",
       "      <td>4</td>\n",
       "      <td>0.1</td>\n",
       "      <td>0.1</td>\n",
       "      <td>1</td>\n",
       "      <td>1</td>\n",
       "      <td>nedges</td>\n",
       "      <td>0.2</td>\n",
       "      <td>1</td>\n",
       "      <td>2000</td>\n",
       "      <td>7984</td>\n",
       "      <td>4</td>\n",
       "      <td>0.987769</td>\n",
       "      <td>0.026250</td>\n",
       "      <td>0.780303</td>\n",
       "      <td>0.991144</td>\n",
       "      <td>0.440489</td>\n",
       "      <td>520.258761</td>\n",
       "      <td>N2000, m4</td>\n",
       "    </tr>\n",
       "    <tr>\n",
       "      <td>5</td>\n",
       "      <td>2000</td>\n",
       "      <td>4</td>\n",
       "      <td>0.3</td>\n",
       "      <td>0.1</td>\n",
       "      <td>1</td>\n",
       "      <td>1</td>\n",
       "      <td>nedges</td>\n",
       "      <td>0.2</td>\n",
       "      <td>1</td>\n",
       "      <td>2000</td>\n",
       "      <td>7984</td>\n",
       "      <td>4</td>\n",
       "      <td>0.999139</td>\n",
       "      <td>0.019387</td>\n",
       "      <td>0.951754</td>\n",
       "      <td>0.992126</td>\n",
       "      <td>0.489616</td>\n",
       "      <td>489.446144</td>\n",
       "      <td>N2000, m4</td>\n",
       "    </tr>\n",
       "    <tr>\n",
       "      <td>6</td>\n",
       "      <td>2000</td>\n",
       "      <td>4</td>\n",
       "      <td>0.1</td>\n",
       "      <td>0.1</td>\n",
       "      <td>1</td>\n",
       "      <td>1</td>\n",
       "      <td>nodes</td>\n",
       "      <td>0.8</td>\n",
       "      <td>1</td>\n",
       "      <td>2000</td>\n",
       "      <td>7984</td>\n",
       "      <td>4</td>\n",
       "      <td>0.999010</td>\n",
       "      <td>0.022500</td>\n",
       "      <td>0.840909</td>\n",
       "      <td>0.994382</td>\n",
       "      <td>0.458188</td>\n",
       "      <td>179.019043</td>\n",
       "      <td>N2000, m4</td>\n",
       "    </tr>\n",
       "    <tr>\n",
       "      <td>7</td>\n",
       "      <td>2000</td>\n",
       "      <td>4</td>\n",
       "      <td>0.5</td>\n",
       "      <td>0.1</td>\n",
       "      <td>1</td>\n",
       "      <td>1</td>\n",
       "      <td>nodes</td>\n",
       "      <td>0.8</td>\n",
       "      <td>1</td>\n",
       "      <td>2000</td>\n",
       "      <td>7984</td>\n",
       "      <td>4</td>\n",
       "      <td>0.999099</td>\n",
       "      <td>0.025000</td>\n",
       "      <td>0.979487</td>\n",
       "      <td>0.970732</td>\n",
       "      <td>0.502245</td>\n",
       "      <td>138.722231</td>\n",
       "      <td>N2000, m4</td>\n",
       "    </tr>\n",
       "    <tr>\n",
       "      <td>8</td>\n",
       "      <td>2000</td>\n",
       "      <td>4</td>\n",
       "      <td>0.3</td>\n",
       "      <td>0.1</td>\n",
       "      <td>1</td>\n",
       "      <td>1</td>\n",
       "      <td>nedges</td>\n",
       "      <td>0.8</td>\n",
       "      <td>1</td>\n",
       "      <td>2000</td>\n",
       "      <td>7984</td>\n",
       "      <td>4</td>\n",
       "      <td>0.998543</td>\n",
       "      <td>0.012500</td>\n",
       "      <td>0.954545</td>\n",
       "      <td>0.996795</td>\n",
       "      <td>0.489174</td>\n",
       "      <td>108.286810</td>\n",
       "      <td>N2000, m4</td>\n",
       "    </tr>\n",
       "  </tbody>\n",
       "</table>\n",
       "</div>"
      ],
      "text/plain": [
       "      N  m    B    H  i  x sampling  pseeds  epoch     n     e  min\\_{degree}  \\\n",
       "0  2000  4  0.5  0.8  1  1   nedges     0.8      1  2000  7984              4   \n",
       "1  2000  4  0.5  0.1  1  1   nedges     0.2      1  2000  7984              4   \n",
       "2  2000  4  0.1  0.1  1  1    nodes     0.2      1  2000  7984              4   \n",
       "3  2000  4  0.3  0.1  1  1    nodes     0.8      1  2000  7984              4   \n",
       "4  2000  4  0.1  0.1  1  1   nedges     0.2      1  2000  7984              4   \n",
       "5  2000  4  0.3  0.1  1  1   nedges     0.2      1  2000  7984              4   \n",
       "6  2000  4  0.1  0.1  1  1    nodes     0.8      1  2000  7984              4   \n",
       "7  2000  4  0.5  0.1  1  1    nodes     0.8      1  2000  7984              4   \n",
       "8  2000  4  0.3  0.1  1  1   nedges     0.8      1  2000  7984              4   \n",
       "\n",
       "     ROCAUC       mae       ccm       ccM      bias         lag  \\\n",
       "0  0.977541  0.097500  0.913265  0.892157  0.505846  105.447222   \n",
       "1  0.998452  0.020638  0.985056  0.973618  0.502920  481.337838   \n",
       "2  0.997123  0.021875  0.823171  0.995822  0.452542  661.314135   \n",
       "3  0.999495  0.025000  0.937008  0.992674  0.485576  140.577953   \n",
       "4  0.987769  0.026250  0.780303  0.991144  0.440489  520.258761   \n",
       "5  0.999139  0.019387  0.951754  0.992126  0.489616  489.446144   \n",
       "6  0.999010  0.022500  0.840909  0.994382  0.458188  179.019043   \n",
       "7  0.999099  0.025000  0.979487  0.970732  0.502245  138.722231   \n",
       "8  0.998543  0.012500  0.954545  0.996795  0.489174  108.286810   \n",
       "\n",
       "  network\\_{size}  \n",
       "0       N2000, m4  \n",
       "1       N2000, m4  \n",
       "2       N2000, m4  \n",
       "3       N2000, m4  \n",
       "4       N2000, m4  \n",
       "5       N2000, m4  \n",
       "6       N2000, m4  \n",
       "7       N2000, m4  \n",
       "8       N2000, m4  "
      ]
     },
     "execution_count": 5,
     "metadata": {},
     "output_type": "execute_result"
    }
   ],
   "source": [
    "viz.plot_setup(LATEX)\n",
    "df_results, columns = viz.latex_compatible_dataframe(df_results_original, LATEX)    \n",
    "df_results.head(10)"
   ]
  },
  {
   "cell_type": "markdown",
   "metadata": {},
   "source": [
    "<h2>--- RQ1 ---</h2>"
   ]
  },
  {
   "cell_type": "markdown",
   "metadata": {},
   "source": [
    "<h3>Network structure vs. Global performance</h3>"
   ]
  },
  {
   "cell_type": "code",
   "execution_count": 8,
   "metadata": {
    "scrolled": true
   },
   "outputs": [
    {
     "data": {
      "image/png": "[encoded data removed]",
      "text/plain": [
       "<Figure size 519.532x170 with 3 Axes>"
      ]
     },
     "metadata": {},
     "output_type": "display_data"
    }
   ],
   "source": [
    "fn = None\n",
    "viz.plot_rocauc_vs_homophily_per_B_m_pseeds(df_results.query(\"sampling=='nodes' & N==2000 & m==4\"), columns, fn=fn)"
   ]
  },
  {
   "cell_type": "code",
   "execution_count": 9,
   "metadata": {
    "scrolled": false
   },
   "outputs": [
    {
     "name": "stderr",
     "output_type": "stream",
     "text": [
      "/home/lespin/anaconda3/lib/python3.7/site-packages/seaborn/axisgrid.py:848: UserWarning: Tight layout not applied. The left and right margins cannot be made large enough to accommodate all axes decorations. \n",
      "  self.fig.tight_layout()\n"
     ]
    },
    {
     "data": {
      "image/png": "[encoded data removed]",
      "text/plain": [
       "<Figure size 80x300 with 3 Axes>"
      ]
     },
     "metadata": {},
     "output_type": "display_data"
    }
   ],
   "source": [
    "fn = None\n",
    "viz.plot_rocauc_vs_pseeds_per_B_N_m(df_results.query(\"sampling=='nodes'\"), columns, fn=fn)"
   ]
  },
  {
   "cell_type": "markdown",
   "metadata": {},
   "source": [
    "<h3>Regression to the mean global performance</h3>"
   ]
  },
  {
   "cell_type": "code",
   "execution_count": null,
   "metadata": {},
   "outputs": [],
   "source": [
    ""
   ]
  },
  {
   "cell_type": "markdown",
   "metadata": {},
   "source": [
    "<h3>Real World vs. Model</h3>"
   ]
  },
  {
   "cell_type": "code",
   "execution_count": null,
   "metadata": {},
   "outputs": [],
   "source": [
    ""
   ]
  },
  {
   "cell_type": "markdown",
   "metadata": {},
   "source": [
    "<h2>--- RQ2 ---</h2>"
   ]
  },
  {
   "cell_type": "markdown",
   "metadata": {},
   "source": [
    "<h3>Global performance</h3>"
   ]
  },
  {
   "cell_type": "code",
   "execution_count": null,
   "metadata": {},
   "outputs": [],
   "source": [
    ""
   ]
  },
  {
   "cell_type": "markdown",
   "metadata": {},
   "source": [
    "<h3>Quality of estimates</h3>"
   ]
  },
  {
   "cell_type": "code",
   "execution_count": null,
   "metadata": {},
   "outputs": [],
   "source": [
    ""
   ]
  },
  {
   "cell_type": "markdown",
   "metadata": {},
   "source": [
    "<h3>Utility of estimates</h3>"
   ]
  },
  {
   "cell_type": "code",
   "execution_count": null,
   "metadata": {},
   "outputs": [],
   "source": [
    ""
   ]
  },
  {
   "cell_type": "markdown",
   "metadata": {},
   "source": [
    "<h2>--- RQ3 ---</h2>"
   ]
  },
  {
   "cell_type": "markdown",
   "metadata": {},
   "source": [
    "<h3>Fairness</h3>"
   ]
  },
  {
   "cell_type": "code",
   "execution_count": 10,
   "metadata": {},
   "outputs": [
    {
     "data": {
      "image/png": "[encoded data removed]",
      "text/plain": [
       "<Figure size 540.448x340 with 6 Axes>"
      ]
     },
     "metadata": {},
     "output_type": "display_data"
    }
   ],
   "source": [
    "fn = None\n",
    "viz.plot_bias_vs_pseeds_per_B_H_sampling(df_results.query(\"N==2000\"), columns, fn=fn)"
   ]
  },
  {
   "cell_type": "code",
   "execution_count": null,
   "metadata": {},
   "outputs": [],
   "source": [
    ""
   ]
  },
  {
   "cell_type": "code",
   "execution_count": null,
   "metadata": {},
   "outputs": [],
   "source": [
    ""
   ]
  }
 ],
 "metadata": {
  "kernelspec": {
   "display_name": "Python 3",
   "language": "python",
   "name": "python3"
  },
  "language_info": {
   "codemirror_mode": {
    "name": "ipython",
    "version": 3.0
   },
   "file_extension": ".py",
   "mimetype": "text/x-python",
   "name": "python",
   "nbconvert_exporter": "python",
   "pygments_lexer": "ipython3",
   "version": "3.7.4"
  }
 },
 "nbformat": 4,
 "nbformat_minor": 0
}