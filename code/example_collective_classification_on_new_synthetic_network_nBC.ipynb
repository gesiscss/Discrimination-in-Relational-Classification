{
 "cells": [
  {
   "cell_type": "code",
   "execution_count": 1,
   "metadata": {},
   "outputs": [],
   "source": [
    "__author__ = \"Lisette Espin\"\n",
    "__copyright__ = \"Copyright 2019, GESIS / USC-ISI\"\n",
    "__credits__ = [\"Lisette Espin-Noboa\", \n",
    "               \"Fariba Karimi\", \n",
    "               \"Bruno Ribeiro\",\n",
    "               \"Kristina Lerman\",\n",
    "               \"Claudia Wagner\"]\n",
    "__license__ = \"GPL\"\n",
    "__version__ = \"1.0.1\"\n",
    "__maintainer__ = \"Lisette Espin\"\n",
    "__email__ = \"lisette.espin@gesis.org\"\n",
    "__status__ = \"Development\""
   ]
  },
  {
   "cell_type": "markdown",
   "metadata": {},
   "source": [
    "<h1 style=\"text-align: center;\">Example on Existing Synthetic Network</h1>\n",
    "<h2 style=\"text-align: center;\">network-only Bayes classifier (nBC) as relational model</h2>"
   ]
  },
  {
   "cell_type": "markdown",
   "metadata": {},
   "source": [
    "<h2>Dependencies</h2>"
   ]
  },
  {
   "cell_type": "code",
   "execution_count": 2,
   "metadata": {},
   "outputs": [],
   "source": [
    "%load_ext autoreload\n",
    "%autoreload 2\n",
    "\n",
    "from org.gesis.network.network import Network\n",
    "from org.gesis.sampling.sampling import Sampling\n",
    "from org.gesis.local.local import Local\n",
    "from org.gesis.relational.relational import Relational\n",
    "from org.gesis.inference.inference import Inference\n",
    "from utils import viz\n",
    "from utils import io"
   ]
  },
  {
   "cell_type": "markdown",
   "metadata": {},
   "source": [
    "<h2>Parameters</h2>"
   ]
  },
  {
   "cell_type": "code",
   "execution_count": 3,
   "metadata": {},
   "outputs": [],
   "source": [
    "kind = \"BAH\"                       # network generative model type\n",
    "N = 2000                           # number of nodes\n",
    "m = 4                              # minimun degree (proxy of density)\n",
    "H = 0.1                            # homophily\n",
    "B = 0.3                            # class balance (minority fraction)\n",
    "sampling = \"nedges\"                # subgraph sampling method (nodes, nedges, degree, neighbors, partial_crawls)\n",
    "pseeds = 0.8                       # fraction of nodes to sample \n",
    "epoch = 1                          # epoch (iteration number #)\n",
    "LC = \"prior\"                       # local model\n",
    "RC = \"nBC\"                         # relational model\n",
    "CI = \"relaxation\"                  # inference\n",
    "OUTPUT = \"../results-individual\"   # directory to store results"
   ]
  },
  {
   "cell_type": "markdown",
   "metadata": {},
   "source": [
    "<h2>1. Network</h2>"
   ]
  },
  {
   "cell_type": "code",
   "execution_count": 4,
   "metadata": {},
   "outputs": [
    {
     "name": "stdout",
     "output_type": "stream",
     "text": [
      "SYMMETRIC:\n",
      "Name: homophilic_barabasi_albert\n",
      "Type: Graph\n",
      "Number of nodes: 2000\n",
      "Number of edges: 7984\n",
      "Average degree:   7.9840\n",
      "{'HMM': None, 'fullname': 'BAH-N2000-m4-B0.3-H0.1-i1-x1-h0.1-k8.0-km12.7-kM6.0', 'b': 0.3, 'm': 4, 'attributes': ['color'], 'kind': 'BAH', 'km': 12.67, 'min_degree': 4, 'labels': ['blue', 'red'], 'density': 0.00399399699849925, 'k': 7.984, 'e': 7984, 'class': 'color', 'H': 0.1, 'x': 1, 'h': 0.1, 'name': 'homophilic_barabasi_albert', 'B': 0.3, 'group': ['M', 'm'], 'n': 2000, 'kM': 5.975714285714286, 'i': 1, 'N': 2000, 'Hmm': None}\n"
     ]
    }
   ],
   "source": [
    "net = Network(kind)\n",
    "net.create_network(N=N,m=m,B=B,H=H)\n",
    "net.info()"
   ]
  },
  {
   "cell_type": "markdown",
   "metadata": {},
   "source": [
    "<h2>2. Sampling</h2>"
   ]
  },
  {
   "cell_type": "code",
   "execution_count": 5,
   "metadata": {},
   "outputs": [
    {
     "name": "stdout",
     "output_type": "stream",
     "text": [
      "Name: homophilic_barabasi_albert\n",
      "Type: Graph\n",
      "Number of nodes: 1601\n",
      "Number of edges: 2010\n",
      "Average degree:   2.5109\n",
      "{'HMM': None, 'H': 0.13949250189014617, 'epoch': 1, 'm': 1, 'attributes': ['color'], 'kind': 'BAH', 'name': 'homophilic_barabasi_albert', 'pseeds': 0.8, 'labels': ['blue', 'red'], 'density': 0.0015693316677076827, 'k': 2.5109306683322923, 'e': 2010, 'class': 'color', 'fullname': 'BAH-N2000-m4-B0.3-H0.1-i1-x1-h0.1-k8.0-km12.7-kM6.0', 'x': 1, 'h': 0.1, 'km': 3.84, 'B': 0.3123048094940662, 'group': ['M', 'm'], 'kM': 1.9073569482288828, 'i': 1, 'method': 'nedges', 'N': 1601, 'Hmm': None}\n"
     ]
    }
   ],
   "source": [
    "sam = Sampling(sampling, net.G, pseeds, epoch)\n",
    "sam.extract_subgraph()\n",
    "sam.info()"
   ]
  },
  {
   "cell_type": "markdown",
   "metadata": {},
   "source": [
    "<h2>3. Modeling</h2>"
   ]
  },
  {
   "cell_type": "code",
   "execution_count": 6,
   "metadata": {},
   "outputs": [
    {
     "name": "stdout",
     "output_type": "stream",
     "text": [
      "blue    0.687461\n",
      "red     0.312539\n",
      "dtype: float64\n"
     ]
    }
   ],
   "source": [
    "local_model = Local(LC)\n",
    "local_model.learn(sam.Gseeds)\n",
    "local_model.info()"
   ]
  },
  {
   "cell_type": "code",
   "execution_count": 7,
   "metadata": {},
   "outputs": [
    {
     "name": "stdout",
     "output_type": "stream",
     "text": [
      "          blue       red\n",
      "blue  0.143197  0.856803\n",
      "red   0.937045  0.062955\n"
     ]
    }
   ],
   "source": [
    "relational_model = Relational(RC).get_model()\n",
    "relational_model.learn(sam.Gseeds)\n",
    "relational_model.info()"
   ]
  },
  {
   "cell_type": "markdown",
   "metadata": {},
   "source": [
    "<h2>4. Inference</h2>"
   ]
  },
  {
   "cell_type": "code",
   "execution_count": 8,
   "metadata": {
    "scrolled": false
   },
   "outputs": [
    {
     "name": "stdout",
     "output_type": "stream",
     "text": [
      "(0, 0, 0, 0, 1)\n",
      "(0, 0, 0, 0, 1)\n",
      "(1.703136945768445e-14, 2.2509509203392728e-07, 4.681536230634713e-07, 8.670596234480804e-05, 0.9999999789951655)\n",
      "\n",
      "Prediction in 194.88203740119934 seconds\n",
      "ROCAUC: 0.9997157190635451\n",
      "ROCAUC curve: 0.9997157190635451\n",
      "MAE: 0.007518796992481203\n",
      "ccm: 0.97\n",
      "ccM: 1.0\n",
      "bias: 0.49238578680203043\n",
      "\n",
      "BAH-N2000-m4-B0.3-H0.1-i1-x1-h0.1-k8.0-km12.7-kM6.0_nedges/P80_graph.gpickle saved!\n",
      "BAH-N2000-m4-B0.3-H0.1-i1-x1-h0.1-k8.0-km12.7-kM6.0_nedges/P80_samplegraph.gpickle saved!\n",
      "BAH-N2000-m4-B0.3-H0.1-i1-x1-h0.1-k8.0-km12.7-kM6.0_nedges/P80_evaluation.pickle saved!\n"
     ]
    }
   ],
   "source": [
    "inference = Inference(CI)\n",
    "inference.predict(net.G, local_model, relational_model)\n",
    "inference.evaluation()\n",
    "inference.summary()\n",
    "inference.save(OUTPUT)"
   ]
  },
  {
   "cell_type": "markdown",
   "metadata": {},
   "source": [
    "<h2>5. Results</h2>"
   ]
  },
  {
   "cell_type": "code",
   "execution_count": 9,
   "metadata": {},
   "outputs": [
    {
     "data": {
      "image/png": "[encoded data removed]",
      "text/plain": [
       "<Figure size 432x288 with 1 Axes>"
      ]
     },
     "metadata": {},
     "output_type": "display_data"
    }
   ],
   "source": [
    "fn = None\n",
    "viz.plot_rocauc_curve(inference.fpr, inference.tpr, inference.rocauc_curve, fn)"
   ]
  },
  {
   "cell_type": "code",
   "execution_count": null,
   "metadata": {},
   "outputs": [],
   "source": []
  }
 ],
 "metadata": {
  "kernelspec": {
   "display_name": "Python 3",
   "language": "python",
   "name": "python3"
  },
  "language_info": {
   "codemirror_mode": {
    "name": "ipython",
    "version": 3
   },
   "file_extension": ".py",
   "mimetype": "text/x-python",
   "name": "python",
   "nbconvert_exporter": "python",
   "pygments_lexer": "ipython3",
   "version": "3.5.2"
  }
 },
 "nbformat": 4,
 "nbformat_minor": 2
}
