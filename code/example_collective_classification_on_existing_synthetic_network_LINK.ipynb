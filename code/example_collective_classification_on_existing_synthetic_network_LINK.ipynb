{
 "cells": [
  {
   "cell_type": "code",
   "execution_count": 1,
   "metadata": {},
   "outputs": [],
   "source": [
    "__author__ = \"Lisette Espin\"\n",
    "__copyright__ = \"Copyright 2019, GESIS / USC-ISI\"\n",
    "__credits__ = [\"Lisette Espin-Noboa\", \n",
    "               \"Fariba Karimi\", \n",
    "               \"Bruno Ribeiro\",\n",
    "               \"Kristina Lerman\",\n",
    "               \"Claudia Wagner\"]\n",
    "__license__ = \"GPL\"\n",
    "__version__ = \"1.0.1\"\n",
    "__maintainer__ = \"Lisette Espin\"\n",
    "__email__ = \"lisette.espin@gesis.org\"\n",
    "__status__ = \"Development\""
   ]
  },
  {
   "cell_type": "markdown",
   "metadata": {},
   "source": [
    "<h1 style=\"text-align: center;\">Example on Existing Synthetic Network</h1>\n",
    "<h2 style=\"text-align: center;\">LINK as relational model</h2>"
   ]
  },
  {
   "cell_type": "markdown",
   "metadata": {},
   "source": [
    "<h2>Dependencies</h2>"
   ]
  },
  {
   "cell_type": "code",
   "execution_count": 12,
   "metadata": {},
   "outputs": [
    {
     "name": "stdout",
     "output_type": "stream",
     "text": [
      "The autoreload extension is already loaded. To reload it, use:\n",
      "  %reload_ext autoreload\n"
     ]
    }
   ],
   "source": [
    "%load_ext autoreload\n",
    "%autoreload 2\n",
    "\n",
    "from org.gesis.network.network import Network\n",
    "from org.gesis.sampling.sampling import Sampling\n",
    "from org.gesis.local.local import Local\n",
    "from org.gesis.relational.relational import Relational\n",
    "from org.gesis.inference.inference import Inference\n",
    "from utils import viz\n",
    "from utils import io"
   ]
  },
  {
   "cell_type": "markdown",
   "metadata": {},
   "source": [
    "<h2>Parameters</h2>"
   ]
  },
  {
   "cell_type": "code",
   "execution_count": 107,
   "metadata": {},
   "outputs": [],
   "source": [
    "kind = \"BAH\"                       # network generative model type\n",
    "sampling = \"nodes\"                 # subgraph sampling method (nodes, nedges, degree, neighbors, partial_crawls)\n",
    "pseeds = 0.05                       # fraction of nodes to sample \n",
    "epoch = 1                          # epoch (iteration number #)\n",
    "LC = \"prior\"                       # local model\n",
    "RC = \"LINK\"                        # relational model\n",
    "CI = \"relaxationlink\"              # inference\n",
    "N = 2000                            # Number of nodes: 500, 2000\n",
    "m = 4                              # minimum degree: 4, 20\n",
    "B = 0.1                            # minority fraction: 0.1, 0.3, 0.5\n",
    "H = 0.9                            # Homophily: 0.0, 0.1, 0.2, ..., 1.0\n",
    "epoch = 2                          # x out of 5 \n",
    "DATAPATH = \"../data/\"              # networkx graph files path\n",
    "OUTPUT = \"../results-individual\"   # directory to store results\n",
    "\n",
    "#BAH-N2000-m4-B0.1-H0.9-i2-x5-h0.9-k8.0-km5.8-kM8.2"
   ]
  },
  {
   "cell_type": "markdown",
   "metadata": {},
   "source": [
    "<h2>1. Network</h2>"
   ]
  },
  {
   "cell_type": "code",
   "execution_count": 108,
   "metadata": {},
   "outputs": [
    {
     "name": "stdout",
     "output_type": "stream",
     "text": [
      "Name: homophilic_barabasi_albert\n",
      "Type: Graph\n",
      "Number of nodes: 2000\n",
      "Number of edges: 7984\n",
      "Average degree:   7.9840\n",
      "{'kind': None, 'group': ['M', 'm'], 'x': '5', 'N': '2000', 'b': 0.1, 'h': 0.9, 'm': '4', 'attributes': ['color'], 'H': None, 'B': '0.1', 'name': 'homophilic_barabasi_albert', 'fullname': 'BAH-N2000-m4-B0.1-H0.9-i1-x5-h0.9-k8.0-km5.9-kM8.2', 'Hmm': None, 'kM': 8.213888888888889, 'e': 7984, 'class': 'color', 'HMM': None, 'km': 5.915, 'i': '1', 'k': 7.984, 'n': 2000, 'density': 0.00399399699849925, 'min_degree': 4, 'labels': ['blue', 'red']}\n"
     ]
    }
   ],
   "source": [
    "net = Network()\n",
    "net.load(io.get_random_datafn(DATAPATH,kind,N,m,B,H))\n",
    "net.info()"
   ]
  },
  {
   "cell_type": "markdown",
   "metadata": {},
   "source": [
    "<h2>2. Sampling</h2>"
   ]
  },
  {
   "cell_type": "code",
   "execution_count": 109,
   "metadata": {},
   "outputs": [
    {
     "name": "stdout",
     "output_type": "stream",
     "text": [
      "Name: homophilic_barabasi_albert\n",
      "Type: Graph\n",
      "Number of nodes: 1800\n",
      "Number of edges: 6759\n",
      "Average degree:   7.5100\n",
      "{'kind': None, 'group': ['M', 'm'], 'x': '5', 'N': 1800, 'h': 0.9, 'labels': ['blue', 'red'], 'm': 2, 'attributes': ['color'], 'pseeds': 0.9, 'H': -0.4825152872583728, 'B': 0.10277777777777777, 'name': 'homophilic_barabasi_albert', 'fullname': 'BAH-N2000-m4-B0.1-H0.9-i1-x5-h0.9-k8.0-km5.9-kM8.2', 'Hmm': None, 'epoch': 2, 'kM': 7.727554179566564, 'e': 6759, 'class': 'color', 'HMM': None, 'i': '1', 'k': 7.51, 'density': 0.004174541411895497, 'method': 'nodes', 'km': 5.610810810810811}\n"
     ]
    }
   ],
   "source": [
    "sam = Sampling(sampling, net.G, pseeds, epoch)\n",
    "sam.extract_subgraph()\n",
    "sam.info()"
   ]
  },
  {
   "cell_type": "markdown",
   "metadata": {},
   "source": [
    "<h2>3. Modeling</h2>"
   ]
  },
  {
   "cell_type": "code",
   "execution_count": 110,
   "metadata": {},
   "outputs": [
    {
     "name": "stdout",
     "output_type": "stream",
     "text": [
      "blue    0.896781\n",
      "red     0.103219\n",
      "dtype: float64\n"
     ]
    }
   ],
   "source": [
    "local_model = Local(LC)\n",
    "local_model.learn(sam.Gseeds)\n",
    "local_model.info()"
   ]
  },
  {
   "cell_type": "code",
   "execution_count": 111,
   "metadata": {},
   "outputs": [
    {
     "name": "stdout",
     "output_type": "stream",
     "text": [
      "LogisticRegression(C=1e+21, class_weight=None, dual=False, fit_intercept=True,\n",
      "                   intercept_scaling=1, l1_ratio=None, max_iter=100,\n",
      "                   multi_class='warn', n_jobs=None, penalty='l2',\n",
      "                   random_state=None, solver='lbfgs', tol=0.0001, verbose=0,\n",
      "                   warm_start=False)\n"
     ]
    }
   ],
   "source": [
    "relational_model = Relational(RC).get_model()\n",
    "relational_model.learn(sam.Gseeds, sam.feature_x, sam.membership_y, sam.train_index, sam.test_index, sam.test_nodes)\n",
    "relational_model.info()"
   ]
  },
  {
   "cell_type": "markdown",
   "metadata": {},
   "source": [
    "<h2>4. Inference</h2>"
   ]
  },
  {
   "cell_type": "code",
   "execution_count": 112,
   "metadata": {
    "scrolled": false
   },
   "outputs": [
    {
     "name": "stdout",
     "output_type": "stream",
     "text": [
      "(0, 0, 0, 0, 0)\n",
      "(0, 0, 0, 0, 0)\n",
      "(1.5915093139607394e-18, 8.22872098088236e-09, 3.2776631602781398e-12, 9.391684089713191e-20, 5.106126581891335e-24)\n",
      "\n",
      "Prediction in 0.8378012180328369 seconds\n",
      "ROCAUC: 0.8915315315315315\n",
      "ROCAUC curve: 0.8915315315315315\n",
      "MAE: 0.02\n",
      "ccm: 0.8\n",
      "ccM: 0.9945945945945946\n",
      "bias: 0.4457831325301205\n",
      "\n",
      "BAH-N2000-m4-B0.1-H0.9-i1-x5-h0.9-k8.0-km5.9-kM8.2_nodes/P90_graph.gpickle saved!\n",
      "BAH-N2000-m4-B0.1-H0.9-i1-x5-h0.9-k8.0-km5.9-kM8.2_nodes/P90_samplegraph.gpickle saved!\n",
      "BAH-N2000-m4-B0.1-H0.9-i1-x5-h0.9-k8.0-km5.9-kM8.2_nodes/P90_evaluation.pickle saved!\n"
     ]
    }
   ],
   "source": [
    "inference = Inference(CI)\n",
    "inference.predict(net.G, local_model, relational_model)\n",
    "inference.evaluation()\n",
    "inference.summary()\n",
    "inference.save(OUTPUT)"
   ]
  },
  {
   "cell_type": "markdown",
   "metadata": {},
   "source": [
    "<h2>5. Results</h2>"
   ]
  },
  {
   "cell_type": "code",
   "execution_count": 113,
   "metadata": {},
   "outputs": [
    {
     "data": {
      "image/png": "[encoded data removed]",
      "text/plain": [
       "<Figure size 432x288 with 1 Axes>"
      ]
     },
     "metadata": {},
     "output_type": "display_data"
    }
   ],
   "source": [
    "fn = None\n",
    "viz.plot_rocauc_curve(inference.fpr, inference.tpr, inference.rocauc_curve, fn)"
   ]
  },
  {
   "cell_type": "code",
   "execution_count": null,
   "metadata": {},
   "outputs": [],
   "source": []
  }
 ],
 "metadata": {
  "kernelspec": {
   "display_name": "Python 3",
   "language": "python",
   "name": "python3"
  },
  "language_info": {
   "codemirror_mode": {
    "name": "ipython",
    "version": 3
   },
   "file_extension": ".py",
   "mimetype": "text/x-python",
   "name": "python",
   "nbconvert_exporter": "python",
   "pygments_lexer": "ipython3",
   "version": "3.5.2"
  }
 },
 "nbformat": 4,
 "nbformat_minor": 2
}
