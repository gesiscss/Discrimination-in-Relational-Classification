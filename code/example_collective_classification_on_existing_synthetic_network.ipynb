{
 "cells": [
  {
   "cell_type": "code",
   "execution_count": 1,
   "metadata": {},
   "outputs": [],
   "source": [
    "__author__ = \"Lisette Espin\"\n",
    "__copyright__ = \"Copyright 2019, GESIS / USC-ISI\"\n",
    "__credits__ = [\"Lisette Espin-Noboa\", \n",
    "               \"Fariba Karimi\", \n",
    "               \"Bruno Ribeiro\",\n",
    "               \"Kristina Lerman\",\n",
    "               \"Claudia Wagner\"]\n",
    "__license__ = \"GPL\"\n",
    "__version__ = \"1.0.1\"\n",
    "__maintainer__ = \"Lisette Espin\"\n",
    "__email__ = \"lisette.espin@gesis.org\"\n",
    "__status__ = \"Development\""
   ]
  },
  {
   "cell_type": "markdown",
   "metadata": {},
   "source": [
    "<h1 style=\"text-align: center;\">Example on Existing Synthetic Network</h1>"
   ]
  },
  {
   "cell_type": "markdown",
   "metadata": {},
   "source": [
    "<h2>Dependencies</h2>"
   ]
  },
  {
   "cell_type": "code",
   "execution_count": 2,
   "metadata": {},
   "outputs": [],
   "source": [
    "%load_ext autoreload\n",
    "%autoreload 2\n",
    "\n",
    "from org.gesis.network.network import Network\n",
    "from org.gesis.sampling.sampling import Sampling\n",
    "from org.gesis.local.local import Local\n",
    "from org.gesis.relational.relational import Relational\n",
    "from org.gesis.inference.inference import Inference\n",
    "from utils import viz\n",
    "from utils import io"
   ]
  },
  {
   "cell_type": "markdown",
   "metadata": {},
   "source": [
    "<h2>Parameters</h2>"
   ]
  },
  {
   "cell_type": "code",
   "execution_count": 3,
   "metadata": {},
   "outputs": [],
   "source": [
    "kind = \"BAH\"                    # network generative model type\n",
    "sampling = \"nodes\"              # subgraph sampling method (nodes, nedges, degree, neighbors, partial_crawls)\n",
    "pseeds = 0.9                    # fraction of nodes to sample \n",
    "epoch = 1                       # epoch (iteration number #)\n",
    "LC = \"prior\"                    # local model\n",
    "RC = \"nBC\"                      # relational model\n",
    "CI = \"relaxation\"               # inference\n",
    "N = 500                         # Number of nodes: 500, 2000\n",
    "m = 4                           # minimum degree: 4, 20\n",
    "B = 0.5                         # minority fraction: 0.1, 0.3, 0.5\n",
    "H = 1.0                         # Homophily: 0.0, 0.1, 0.2, ..., 1.0\n",
    "epoch = 1                       # x out of 5 \n",
    "DATAPATH = \"../data/\"              # networkx graph files path\n",
    "OUTPUT = \"../results-individual\"   # directory to store results"
   ]
  },
  {
   "cell_type": "markdown",
   "metadata": {},
   "source": [
    "<h2>1. Network</h2>"
   ]
  },
  {
   "cell_type": "code",
   "execution_count": 4,
   "metadata": {},
   "outputs": [
    {
     "name": "stdout",
     "output_type": "stream",
     "text": [
      "Name: homophilic_barabasi_albert\n",
      "Type: Graph\n",
      "Number of nodes: 500\n",
      "Number of edges: 1977\n",
      "Average degree:   7.9080\n",
      "{'labels': ['blue', 'red'], 'fullname': 'BAH-N500-m4-B0.5-H1.0-i2-x5-h1.0-k7.9-km7.9-kM7.9', 'm': '4', 'attributes': ['color'], 'H': '1.0', 'km': 7.92, 'class': 'color', 'group': ['M', 'm'], 'name': 'homophilic_barabasi_albert', 'i': '2', 'h': 1.0, 'N': '500', 'kind': None, 'k': 7.908, 'B': '0.5', 'b': 0.5, 'e': 1977, 'min_degree': 4, 'x': '5', 'density': 0.015847695390781562, 'n': 500, 'kM': 7.896}\n"
     ]
    }
   ],
   "source": [
    "net = Network()\n",
    "net.load(io.get_random_datafn(DATAPATH,kind,N,m,B,H))\n",
    "net.info()"
   ]
  },
  {
   "cell_type": "markdown",
   "metadata": {},
   "source": [
    "<h2>2. Sampling</h2>"
   ]
  },
  {
   "cell_type": "code",
   "execution_count": 5,
   "metadata": {},
   "outputs": [
    {
     "name": "stdout",
     "output_type": "stream",
     "text": [
      "Name: homophilic_barabasi_albert\n",
      "Type: Graph\n",
      "Number of nodes: 450\n",
      "Number of edges: 1575\n",
      "Average degree:   7.0000\n",
      "{'labels': ['blue', 'red'], 'fullname': 'BAH-N500-m4-B0.5-H1.0-i2-x5-h1.0-k7.9-km7.9-kM7.9', 'm': 2, 'attributes': ['color'], 'H': 1.0134419135681014, 'km': 7.008849557522124, 'name': 'homophilic_barabasi_albert', 'group': ['M', 'm'], 'class': 'color', 'pseeds': 0.9, 'i': '2', 'h': 1.0, 'N': 450, 'epoch': 1, 'k': 7.0, 'e': 1575, 'B': 0.49777777777777776, 'x': '5', 'density': 0.015590200445434299, 'kind': None, 'kM': 6.991071428571429, 'method': 'nodes'}\n"
     ]
    }
   ],
   "source": [
    "sam = Sampling(sampling, net.G, pseeds, epoch)\n",
    "sam.extract_subgraph()\n",
    "sam.info()"
   ]
  },
  {
   "cell_type": "markdown",
   "metadata": {},
   "source": [
    "<h2>3. Modeling</h2>"
   ]
  },
  {
   "cell_type": "code",
   "execution_count": 6,
   "metadata": {},
   "outputs": [
    {
     "name": "stdout",
     "output_type": "stream",
     "text": [
      "blue    0.497788\n",
      "red     0.502212\n",
      "dtype: float64\n"
     ]
    }
   ],
   "source": [
    "local_model = Local(LC)\n",
    "local_model.learn(sam.Gseeds)\n",
    "local_model.info()"
   ]
  },
  {
   "cell_type": "code",
   "execution_count": 7,
   "metadata": {},
   "outputs": [
    {
     "name": "stdout",
     "output_type": "stream",
     "text": [
      "          blue       red\n",
      "blue  0.999362  0.000638\n",
      "red   0.000631  0.999369\n"
     ]
    }
   ],
   "source": [
    "relational_model = Relational(RC).get_model()\n",
    "relational_model.learn(sam.Gseeds)\n",
    "relational_model.info()"
   ]
  },
  {
   "cell_type": "markdown",
   "metadata": {},
   "source": [
    "<h2>4. Inference</h2>"
   ]
  },
  {
   "cell_type": "code",
   "execution_count": 8,
   "metadata": {
    "scrolled": false
   },
   "outputs": [
    {
     "name": "stdout",
     "output_type": "stream",
     "text": [
      "(0, 1, 0, 0, 1)\n",
      "(0, 1, 0, 0, 1)\n",
      "(4.798143606190576e-53, 1.0, 4.798143606190576e-53, 4.798168920912389e-53, 1.0)\n",
      "\n",
      "Prediction in 33.8653826713562 seconds\n",
      "ROCAUC: 1.0\n",
      "ROCAUC curve: 1.0\n",
      "MAE: 0.0\n",
      "ccm: 1.0\n",
      "ccM: 1.0\n",
      "bias: 0.5\n",
      "\n",
      "BAH-N500-m4-B0.5-H1.0-i2-x5-h1.0-k7.9-km7.9-kM7.9_nodes creating...\n",
      "BAH-N500-m4-B0.5-H1.0-i2-x5-h1.0-k7.9-km7.9-kM7.9_nodes created!\n",
      "BAH-N500-m4-B0.5-H1.0-i2-x5-h1.0-k7.9-km7.9-kM7.9_nodes/P90_graph.gpickle saved!\n",
      "BAH-N500-m4-B0.5-H1.0-i2-x5-h1.0-k7.9-km7.9-kM7.9_nodes/P90_samplegraph.gpickle saved!\n",
      "BAH-N500-m4-B0.5-H1.0-i2-x5-h1.0-k7.9-km7.9-kM7.9_nodes/P90_evaluation.pickle saved!\n"
     ]
    }
   ],
   "source": [
    "inference = Inference(CI)\n",
    "inference.predict(net.G, local_model, relational_model)\n",
    "inference.evaluation()\n",
    "inference.summary()\n",
    "inference.save(OUTPUT)"
   ]
  },
  {
   "cell_type": "markdown",
   "metadata": {},
   "source": [
    "<h2>5. Results</h2>"
   ]
  },
  {
   "cell_type": "code",
   "execution_count": 9,
   "metadata": {},
   "outputs": [
    {
     "data": {
      "image/png": "[encoded data removed]",
      "text/plain": [
       "<Figure size 432x288 with 1 Axes>"
      ]
     },
     "metadata": {},
     "output_type": "display_data"
    }
   ],
   "source": [
    "fn = None\n",
    "viz.plot_rocauc_curve(inference.fpr, inference.tpr, inference.rocauc_curve, fn)"
   ]
  }
 ],
 "metadata": {
  "kernelspec": {
   "display_name": "Python 3",
   "language": "python",
   "name": "python3"
  },
  "language_info": {
   "codemirror_mode": {
    "name": "ipython",
    "version": 3
   },
   "file_extension": ".py",
   "mimetype": "text/x-python",
   "name": "python",
   "nbconvert_exporter": "python",
   "pygments_lexer": "ipython3",
   "version": "3.5.2"
  }
 },
 "nbformat": 4,
 "nbformat_minor": 2
}
