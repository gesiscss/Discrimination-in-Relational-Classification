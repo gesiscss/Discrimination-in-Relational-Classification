{
 "cells": [
  {
   "cell_type": "code",
   "execution_count": 1,
   "metadata": {},
   "outputs": [],
   "source": [
    "__author__ = \"Lisette Espin\"\n",
    "__copyright__ = \"Copyright 2019, GESIS / USC-ISI\"\n",
    "__credits__ = [\"Lisette Espin-Noboa\", \n",
    "               \"Fariba Karimi\", \n",
    "               \"Bruno Ribeiro\",\n",
    "               \"Kristina Lerman\",\n",
    "               \"Claudia Wagner\"]\n",
    "__license__ = \"GPL\"\n",
    "__version__ = \"1.0.1\"\n",
    "__maintainer__ = \"Lisette Espin\"\n",
    "__email__ = \"lisette.espin@gesis.org\"\n",
    "__status__ = \"Development\""
   ]
  },
  {
   "cell_type": "markdown",
   "metadata": {},
   "source": [
    "<h1 style=\"text-align: center;\">Example on Synthetic Network</h1>"
   ]
  },
  {
   "cell_type": "markdown",
   "metadata": {},
   "source": [
    "<h2>Dependencies</h2>"
   ]
  },
  {
   "cell_type": "code",
   "execution_count": 2,
   "metadata": {},
   "outputs": [],
   "source": [
    "%load_ext autoreload\n",
    "%autoreload 2\n",
    "\n",
    "from org.gesis.network.network import Network\n",
    "from org.gesis.sampling.sampling import Sampling\n",
    "from org.gesis.local.local import Local\n",
    "from org.gesis.relational.relational import Relational\n",
    "from org.gesis.inference.inference import Inference\n",
    "from utils import viz\n",
    "from utils import io"
   ]
  },
  {
   "cell_type": "markdown",
   "metadata": {},
   "source": [
    "<h2>Parameters</h2>"
   ]
  },
  {
   "cell_type": "code",
   "execution_count": 3,
   "metadata": {},
   "outputs": [],
   "source": [
    "kind = \"BAH\"                    # network generative model type\n",
    "N = 2000                        # number of nodes\n",
    "m = 4                           # minimun degree (proxy of density)\n",
    "H = 0.6                         # homophily\n",
    "B = 0.5                         # class balance (minority fraction)\n",
    "sampling = \"nodes\"              # subgraph sampling method (nodes, nedges, degree, neighbors, partial_crawls)\n",
    "pseeds = 0.2                    # fraction of nodes to sample \n",
    "LC = \"prior\"                    # local model\n",
    "RC = \"nBC\"                      # relational model\n",
    "CI = \"relaxation\"               # inference\n",
    "IGNORE = 0                      # IGNORE class value\n",
    "DATAFN = \"../data/USF51.gpickle\"   # networkx graph file path\n",
    "OUTPUT = \"../results-individual\"   # directory to store results"
   ]
  },
  {
   "cell_type": "markdown",
   "metadata": {},
   "source": [
    "<h2>1. Network</h2>"
   ]
  },
  {
   "cell_type": "code",
   "execution_count": 4,
   "metadata": {},
   "outputs": [
    {
     "name": "stdout",
     "output_type": "stream",
     "text": [
      "Name: USF51\n",
      "Type: Graph\n",
      "Number of nodes: 1705\n",
      "Number of edges: 15597\n",
      "Average degree:  18.2956\n",
      "{'group': ['M', 'm'], 'class': 'gender', 'attributes': ['status', 'gender', 'major', '2major', 'dorm', 'year', 'highschool'], 'labels': [1, 2], 'name': 'USF51', 'ignoreInt': 0, 'min_degree': 1}\n"
     ]
    }
   ],
   "source": [
    "net = Network()\n",
    "net.load(DATAFN, IGNORE)\n",
    "net.info()"
   ]
  },
  {
   "cell_type": "markdown",
   "metadata": {},
   "source": [
    "<h2>2. Sampling</h2>"
   ]
  },
  {
   "cell_type": "code",
   "execution_count": 5,
   "metadata": {},
   "outputs": [
    {
     "name": "stdout",
     "output_type": "stream",
     "text": [
      "Name: USF51\n",
      "Type: Graph\n",
      "Number of nodes: 341\n",
      "Number of edges: 639\n",
      "Average degree:   3.7478\n",
      "{'group': ['M', 'm'], 'class': 'gender', 'attributes': ['status', 'gender', 'major', '2major', 'dorm', 'year', 'highschool'], 'labels': [1, 2], 'name': 'USF51', 'ignoreInt': 0, 'min_degree': 0, 'pseeds': 0.2, 'method': 'nodes'}\n"
     ]
    }
   ],
   "source": [
    "sam = Sampling(sampling, net.G, pseeds)\n",
    "sam.extract_subgraph()\n",
    "sam.info()"
   ]
  },
  {
   "cell_type": "markdown",
   "metadata": {},
   "source": [
    "<h2>3. Modeling</h2>"
   ]
  },
  {
   "cell_type": "code",
   "execution_count": 6,
   "metadata": {},
   "outputs": [
    {
     "name": "stdout",
     "output_type": "stream",
     "text": [
      "1    0.603499\n",
      "2    0.396501\n",
      "dtype: float64\n"
     ]
    }
   ],
   "source": [
    "local_model = Local(LC)\n",
    "local_model.learn(sam.Gseeds)\n",
    "local_model.info()"
   ]
  },
  {
   "cell_type": "code",
   "execution_count": 7,
   "metadata": {},
   "outputs": [
    {
     "name": "stdout",
     "output_type": "stream",
     "text": [
      "          1         2\n",
      "1  0.555961  0.444039\n",
      "2  0.793478  0.206522\n"
     ]
    }
   ],
   "source": [
    "relational_model = Relational(RC).get_model()\n",
    "relational_model.learn(sam.Gseeds)\n",
    "relational_model.info()"
   ]
  },
  {
   "cell_type": "markdown",
   "metadata": {},
   "source": [
    "<h2>4. Inference</h2>"
   ]
  },
  {
   "cell_type": "code",
   "execution_count": 8,
   "metadata": {
    "scrolled": false
   },
   "outputs": [
    {
     "name": "stdout",
     "output_type": "stream",
     "text": [
      "(1, 0, 0, 1, 1)\n",
      "(1, 1, 0, 1, 1)\n",
      "(0.6150583362306128, 0.16103247756003003, 0.0012231251400535142, 0.9836742544704382, 0.7296078295090798)\n",
      "\n",
      "Prediction in 1036.9519550800323 seconds\n",
      "ROCAUC: 0.7381746668449436\n",
      "ROCAUC curve: 0.7381746668449436\n",
      "MAE: 0.3548387096774194\n",
      "ccm: 0.5288808664259927\n",
      "ccM: 0.7246913580246913\n",
      "bias: 0.42189899880539283\n",
      "\n",
      "USF51/P20_graph.gpickle saved!\n",
      "USF51/P20_evaluation.pickle saved!\n"
     ]
    }
   ],
   "source": [
    "inference = Inference(CI)\n",
    "inference.predict(net.G, local_model, relational_model)\n",
    "inference.evaluation()\n",
    "inference.summary()\n",
    "inference.save(OUTPUT)"
   ]
  },
  {
   "cell_type": "markdown",
   "metadata": {},
   "source": [
    "<h2>5. Results</h2>"
   ]
  },
  {
   "cell_type": "code",
   "execution_count": 9,
   "metadata": {},
   "outputs": [
    {
     "data": {
      "image/png": "[encoded data removed]",
      "text/plain": [
       "<Figure size 432x288 with 1 Axes>"
      ]
     },
     "metadata": {
      "needs_background": "light"
     },
     "output_type": "display_data"
    }
   ],
   "source": [
    "fn = None\n",
    "viz.plot_rocauc_curve(inference.fpr, inference.tpr, inference.rocauc_curve, fn)"
   ]
  }
 ],
 "metadata": {
  "kernelspec": {
   "display_name": "Python 3",
   "language": "python",
   "name": "python3"
  },
  "language_info": {
   "codemirror_mode": {
    "name": "ipython",
    "version": 3
   },
   "file_extension": ".py",
   "mimetype": "text/x-python",
   "name": "python",
   "nbconvert_exporter": "python",
   "pygments_lexer": "ipython3",
   "version": "3.7.4"
  }
 },
 "nbformat": 4,
 "nbformat_minor": 2
}
