{
 "cells": [
  {
   "cell_type": "code",
   "execution_count": 1,
   "metadata": {},
   "outputs": [],
   "source": [
    "__author__ = \"Lisette Espin\"\n",
    "__copyright__ = \"Copyright 2019, GESIS / USC-ISI\"\n",
    "__credits__ = [\"Lisette Espin-Noboa\", \n",
    "               \"Fariba Karimi\", \n",
    "               \"Bruno Ribeiro\",\n",
    "               \"Kristina Lerman\",\n",
    "               \"Claudia Wagner\"]\n",
    "__license__ = \"GPL\"\n",
    "__version__ = \"1.0.1\"\n",
    "__maintainer__ = \"Lisette Espin\"\n",
    "__email__ = \"lisette.espin@gesis.org\"\n",
    "__status__ = \"Development\""
   ]
  },
  {
   "cell_type": "markdown",
   "metadata": {},
   "source": [
    "<h1 style=\"text-align: center;\">Example on New Synthetic Network</h1>"
   ]
  },
  {
   "cell_type": "markdown",
   "metadata": {},
   "source": [
    "<h2>Dependencies</h2>"
   ]
  },
  {
   "cell_type": "code",
   "execution_count": 2,
   "metadata": {},
   "outputs": [],
   "source": [
    "%load_ext autoreload\n",
    "%autoreload 2\n",
    "\n",
    "from org.gesis.network.network import Network\n",
    "from org.gesis.sampling.sampling import Sampling\n",
    "from org.gesis.local.local import Local\n",
    "from org.gesis.relational.relational import Relational\n",
    "from org.gesis.inference.inference import Inference\n",
    "from utils import viz\n",
    "from utils import io"
   ]
  },
  {
   "cell_type": "markdown",
   "metadata": {},
   "source": [
    "<h2>Parameters</h2>"
   ]
  },
  {
   "cell_type": "code",
   "execution_count": 3,
   "metadata": {},
   "outputs": [],
   "source": [
    "kind = \"BAH\"                    # network generative model type\n",
    "N = 2000                        # number of nodes\n",
    "m = 4                           # minimun degree (proxy of density)\n",
    "H = 0.1                         # homophily\n",
    "B = 0.3                         # class balance (minority fraction)\n",
    "sampling = \"nedges\"              # subgraph sampling method (nodes, nedges, degree, neighbors, partial_crawls)\n",
    "pseeds = 0.8                    # fraction of nodes to sample \n",
    "epoch = 1                       # epoch (iteration number #)\n",
    "LC = \"prior\"                    # local model\n",
    "RC = \"nBC\"                      # relational model\n",
    "CI = \"relaxation\"               # inference\n",
    "OUTPUT = \"../results-individual\"   # directory to store results"
   ]
  },
  {
   "cell_type": "markdown",
   "metadata": {},
   "source": [
    "<h2>1. Network</h2>"
   ]
  },
  {
   "cell_type": "code",
   "execution_count": 4,
   "metadata": {},
   "outputs": [
    {
     "name": "stdout",
     "output_type": "stream",
     "text": [
      "Name: homophilic_barabasi_albert\n",
      "Type: Graph\n",
      "Number of nodes: 2000\n",
      "Number of edges: 7984\n",
      "Average degree:   7.9840\n",
      "{'attributes': ['color'], 'class': 'color', 'group': ['M', 'm'], 'labels': ['blue', 'red'], 'name': 'homophilic_barabasi_albert', 'kind': 'BAH', 'N': 2000, 'm': 4, 'B': 0.3, 'H': 0.1, 'i': 1, 'x': 1, 'n': 2000, 'e': 7984, 'h': 0.1, 'b': 0.3, 'min_degree': 4, 'k': 7.984, 'km': 12.528333333333334, 'kM': 6.036428571428571, 'fullname': 'BAH-N2000-m4-B0.3-H0.1-i1-x1-h0.1-k8.0-km12.5-kM6.0'}\n"
     ]
    }
   ],
   "source": [
    "net = Network(kind)\n",
    "net.create_network(N=N,m=m,B=B,H=H)\n",
    "net.info()"
   ]
  },
  {
   "cell_type": "markdown",
   "metadata": {},
   "source": [
    "<h2>2. Sampling</h2>"
   ]
  },
  {
   "cell_type": "code",
   "execution_count": 5,
   "metadata": {},
   "outputs": [
    {
     "name": "stdout",
     "output_type": "stream",
     "text": [
      "Name: homophilic_barabasi_albert\n",
      "Type: Graph\n",
      "Number of nodes: 1600\n",
      "Number of edges: 1992\n",
      "Average degree:   2.4900\n",
      "{'attributes': ['color'], 'class': 'color', 'group': ['M', 'm'], 'labels': ['blue', 'red'], 'name': 'homophilic_barabasi_albert', 'kind': 'BAH', 'N': 1600, 'm': 1, 'B': 0.32, 'H': 0.13741627418066849, 'i': 1, 'x': 1, 'e': 1992, 'h': 0.1, 'k': 2.49, 'km': 3.67578125, 'kM': 1.931985294117647, 'fullname': 'BAH-N2000-m4-B0.3-H0.1-i1-x1-h0.1-k8.0-km12.5-kM6.0', 'pseeds': 0.8, 'method': 'nedges', 'epoch': 1}\n"
     ]
    }
   ],
   "source": [
    "sam = Sampling(sampling, net.G, pseeds, epoch)\n",
    "sam.extract_subgraph()\n",
    "sam.info()"
   ]
  },
  {
   "cell_type": "markdown",
   "metadata": {},
   "source": [
    "<h2>3. Modeling</h2>"
   ]
  },
  {
   "cell_type": "code",
   "execution_count": 6,
   "metadata": {},
   "outputs": [
    {
     "name": "stdout",
     "output_type": "stream",
     "text": [
      "blue    0.679775\n",
      "red     0.320225\n",
      "dtype: float64\n"
     ]
    }
   ],
   "source": [
    "local_model = Local(LC)\n",
    "local_model.learn(sam.Gseeds)\n",
    "local_model.info()"
   ]
  },
  {
   "cell_type": "code",
   "execution_count": 7,
   "metadata": {},
   "outputs": [
    {
     "name": "stdout",
     "output_type": "stream",
     "text": [
      "          blue       red\n",
      "blue  0.163023  0.836977\n",
      "red   0.934713  0.065287\n"
     ]
    }
   ],
   "source": [
    "relational_model = Relational(RC).get_model()\n",
    "relational_model.learn(sam.Gseeds)\n",
    "relational_model.info()"
   ]
  },
  {
   "cell_type": "markdown",
   "metadata": {},
   "source": [
    "<h2>4. Inference</h2>"
   ]
  },
  {
   "cell_type": "code",
   "execution_count": 8,
   "metadata": {
    "scrolled": false
   },
   "outputs": [
    {
     "name": "stdout",
     "output_type": "stream",
     "text": [
      "(0, 0, 0, 0, 0)\n",
      "(0, 0, 0, 0, 0)\n",
      "(0.19460373302694162, 8.27682226315535e-09, 0.0005729847795930475, 7.799542582199152e-06, 8.57106217937838e-16)\n",
      "\n",
      "Prediction in 108.28680968284607 seconds\n",
      "ROCAUC: 0.9985431235431236\n",
      "ROCAUC curve: 0.9985431235431236\n",
      "MAE: 0.0125\n",
      "ccm: 0.9545454545454546\n",
      "ccM: 0.9967948717948718\n",
      "bias: 0.48917425713005824\n",
      "\n",
      "BAH-N2000-m4-B0.3-H0.1-i1-x1-h0.1-k8.0-km12.5-kM6.0_nedges creating...\n",
      "BAH-N2000-m4-B0.3-H0.1-i1-x1-h0.1-k8.0-km12.5-kM6.0_nedges created!\n",
      "BAH-N2000-m4-B0.3-H0.1-i1-x1-h0.1-k8.0-km12.5-kM6.0_nedges/P80_graph.gpickle saved!\n",
      "BAH-N2000-m4-B0.3-H0.1-i1-x1-h0.1-k8.0-km12.5-kM6.0_nedges/P80_samplegraph.gpickle saved!\n",
      "BAH-N2000-m4-B0.3-H0.1-i1-x1-h0.1-k8.0-km12.5-kM6.0_nedges/P80_evaluation.pickle saved!\n"
     ]
    }
   ],
   "source": [
    "inference = Inference(CI)\n",
    "inference.predict(net.G, local_model, relational_model)\n",
    "inference.evaluation()\n",
    "inference.summary()\n",
    "inference.save(OUTPUT)"
   ]
  },
  {
   "cell_type": "markdown",
   "metadata": {},
   "source": [
    "<h2>5. Results</h2>"
   ]
  },
  {
   "cell_type": "code",
   "execution_count": 9,
   "metadata": {},
   "outputs": [
    {
     "data": {
      "image/png": "[encoded data removed]",
      "text/plain": [
       "<Figure size 432x288 with 1 Axes>"
      ]
     },
     "metadata": {
      "needs_background": "light"
     },
     "output_type": "display_data"
    }
   ],
   "source": [
    "fn = None\n",
    "viz.plot_rocauc_curve(inference.fpr, inference.tpr, inference.rocauc_curve, fn)"
   ]
  },
  {
   "cell_type": "code",
   "execution_count": null,
   "metadata": {},
   "outputs": [],
   "source": []
  }
 ],
 "metadata": {
  "kernelspec": {
   "display_name": "Python 3",
   "language": "python",
   "name": "python3"
  },
  "language_info": {
   "codemirror_mode": {
    "name": "ipython",
    "version": 3
   },
   "file_extension": ".py",
   "mimetype": "text/x-python",
   "name": "python",
   "nbconvert_exporter": "python",
   "pygments_lexer": "ipython3",
   "version": "3.7.4"
  }
 },
 "nbformat": 4,
 "nbformat_minor": 2
}
