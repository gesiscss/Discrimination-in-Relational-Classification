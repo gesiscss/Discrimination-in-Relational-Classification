{
 "cells": [
  {
   "cell_type": "code",
   "execution_count": 1,
   "metadata": {},
   "outputs": [],
   "source": [
    "__author__ = \"Lisette Espin\"\n",
    "__copyright__ = \"Copyright 2019, GESIS / USC-ISI\"\n",
    "__credits__ = [\"Lisette Espin-Noboa\", \n",
    "               \"Fariba Karimi\", \n",
    "               \"Bruno Ribeiro\",\n",
    "               \"Kristina Lerman\",\n",
    "               \"Claudia Wagner\"]\n",
    "__license__ = \"GPL\"\n",
    "__version__ = \"1.0.1\"\n",
    "__maintainer__ = \"Lisette Espin\"\n",
    "__email__ = \"lisette.espin@gesis.org\"\n",
    "__status__ = \"Development\""
   ]
  },
  {
   "cell_type": "markdown",
   "metadata": {},
   "source": [
    "<h1 style=\"text-align: center;\">Example on Real-World Network</h1>"
   ]
  },
  {
   "cell_type": "markdown",
   "metadata": {},
   "source": [
    "<h2>Dependencies</h2>"
   ]
  },
  {
   "cell_type": "code",
   "execution_count": 2,
   "metadata": {},
   "outputs": [],
   "source": [
    "%load_ext autoreload\n",
    "%autoreload 2\n",
    "\n",
    "from org.gesis.network.network import Network\n",
    "from org.gesis.sampling.sampling import Sampling\n",
    "from org.gesis.local.local import Local\n",
    "from org.gesis.relational.relational import Relational\n",
    "from org.gesis.inference.inference import Inference\n",
    "from utils import viz\n",
    "from utils import io"
   ]
  },
  {
   "cell_type": "markdown",
   "metadata": {},
   "source": [
    "<h2>Parameters</h2>"
   ]
  },
  {
   "cell_type": "code",
   "execution_count": 3,
   "metadata": {},
   "outputs": [],
   "source": [
    "sampling = \"nodes\"                          # subgraph sampling method (nodes, nedges, degree, neighbors, partial_crawls)\n",
    "pseeds = 0.9                                # fraction of nodes to sample \n",
    "epoch = 1                                   # epoch (iteration number #)\n",
    "LC = \"prior\"                                # local model\n",
    "RC = \"nBC\"                                  # relational model\n",
    "CI = \"relaxation\"                           # inference\n",
    "IGNORE = None                               # IGNORE class value (valid for Facebook datasets)\n",
    "DATASETS = {'caltech':'Caltech36',          # Facebook friendship network       \n",
    "            'escort':'Escorts',             # Sexual contact network in Brazil\n",
    "            'github':'GitHub',              # GitHub mutual-following developer network\n",
    "            'swarth':'Swarthmore42',    # Facebook friendship network   \n",
    "            'usf':'USF512009',              # Facebook friendship network   \n",
    "            'wiki':'Wikipedia'}        # Wikipedia mutual-hyperlink network of american politicians\n",
    "DATAFN = \"../data/{}.gpickle\"               # networkx graph file path\n",
    "OUTPUT = \"../results-individual\"            # directory to store results"
   ]
  },
  {
   "cell_type": "markdown",
   "metadata": {},
   "source": [
    "<h2>1. Network</h2>"
   ]
  },
  {
   "cell_type": "code",
   "execution_count": 4,
   "metadata": {},
   "outputs": [],
   "source": [
    "dataset = 'wiki'\n",
    "DATAFN = DATAFN.format(DATASETS[dataset])\n",
    "IGNORE = 0 if dataset in ['caltech','swarthmore','usf'] else None"
   ]
  },
  {
   "cell_type": "code",
   "execution_count": 5,
   "metadata": {},
   "outputs": [
    {
     "name": "stdout",
     "output_type": "stream",
     "text": [
      "Name: Wikipedia\n",
      "Type: Graph\n",
      "Number of nodes: 2132\n",
      "Number of edges: 3143\n",
      "Average degree:   2.9484\n",
      "{'km': 2.55045871559633, 'HMM': None, 'm': None, 'i': None, 'density': 0.0013835782511887856, 'kind': None, 'e': 3143, 'N': None, 'n': 2132, 'min_degree': 1, 'labels': ['male', 'female'], 'group': ['M', 'm'], 'h': 0.8, 'b': 0.15337711069418386, 'Hmm': None, 'H': None, 'kM': 3.020498614958449, 'fullname': 'Wikipedia', 'k': 2.948405253283302, 'B': None, 'name': 'Wikipedia', 'class': 'gender', 'attributes': ['gender'], 'x': None}\n"
     ]
    }
   ],
   "source": [
    "net = Network()\n",
    "net.load(DATAFN, IGNORE)\n",
    "net.info()"
   ]
  },
  {
   "cell_type": "markdown",
   "metadata": {},
   "source": [
    "<h2>2. Sampling</h2>"
   ]
  },
  {
   "cell_type": "code",
   "execution_count": 6,
   "metadata": {},
   "outputs": [
    {
     "name": "stdout",
     "output_type": "stream",
     "text": [
      "Name: Wikipedia\n",
      "Type: Graph\n",
      "Number of nodes: 1919\n",
      "Number of edges: 2539\n",
      "Average degree:   2.6462\n",
      "{'km': 2.2783505154639174, 'HMM': None, 'm': 0, 'i': None, 'density': 0.0013796506153002657, 'kind': None, 'e': 2539, 'epoch': 1, 'N': 1919, 'labels': ['male', 'female'], 'group': ['M', 'm'], 'h': 0.8, 'pseeds': 0.9, 'method': 'nodes', 'Hmm': None, 'H': 4.211285749296953, 'kM': 2.711916461916462, 'fullname': 'Wikipedia', 'k': 2.6461698801459095, 'B': 0.15164147993746743, 'name': 'Wikipedia', 'class': 'gender', 'attributes': ['gender'], 'x': None}\n"
     ]
    }
   ],
   "source": [
    "sam = Sampling(sampling, net.G, pseeds, epoch)\n",
    "sam.extract_subgraph()\n",
    "sam.info()"
   ]
  },
  {
   "cell_type": "markdown",
   "metadata": {},
   "source": [
    "<h2>3. Modeling</h2>"
   ]
  },
  {
   "cell_type": "code",
   "execution_count": 7,
   "metadata": {},
   "outputs": [
    {
     "name": "stdout",
     "output_type": "stream",
     "text": [
      "male      0.847996\n",
      "female    0.152004\n",
      "dtype: float64\n"
     ]
    }
   ],
   "source": [
    "local_model = Local(LC)\n",
    "local_model.learn(sam.Gseeds)\n",
    "local_model.info()"
   ]
  },
  {
   "cell_type": "code",
   "execution_count": 8,
   "metadata": {},
   "outputs": [
    {
     "name": "stdout",
     "output_type": "stream",
     "text": [
      "            male    female\n",
      "male    0.897668  0.102332\n",
      "female  0.679699  0.320301\n"
     ]
    }
   ],
   "source": [
    "relational_model = Relational(RC).get_model()\n",
    "relational_model.learn(sam.Gseeds)\n",
    "relational_model.info()"
   ]
  },
  {
   "cell_type": "markdown",
   "metadata": {},
   "source": [
    "<h2>4. Inference</h2>"
   ]
  },
  {
   "cell_type": "code",
   "execution_count": 9,
   "metadata": {
    "scrolled": false
   },
   "outputs": [
    {
     "name": "stdout",
     "output_type": "stream",
     "text": [
      "(0, 0, 0, 0, 0)\n",
      "(0, 0, 1, 0, 0)\n",
      "(0.07219721272708227, 0.05564196218011151, 0.24338153244564237, 0.07219721272708227, 0.09319209184278768)\n",
      "\n",
      "Prediction in 85.80232286453247 seconds\n",
      "ROCAUC: 0.6253138731952291\n",
      "ROCAUC curve: 0.6253138731952291\n",
      "MAE: 0.3145539906103286\n",
      "ccm: 0.19444444444444445\n",
      "ccM: 0.7853107344632768\n",
      "bias: 0.19846227775108122\n",
      "\n",
      "Wikipedia_nodes creating...\n",
      "Wikipedia_nodes created!\n",
      "Wikipedia_nodes/P90_graph.gpickle saved!\n",
      "Wikipedia_nodes/P90_samplegraph.gpickle saved!\n",
      "Wikipedia_nodes/P90_evaluation.pickle saved!\n"
     ]
    }
   ],
   "source": [
    "inference = Inference(CI)\n",
    "inference.predict(net.G, local_model, relational_model)\n",
    "inference.evaluation()\n",
    "inference.summary()\n",
    "inference.save(OUTPUT)"
   ]
  },
  {
   "cell_type": "markdown",
   "metadata": {},
   "source": [
    "<h2>5. Results</h2>"
   ]
  },
  {
   "cell_type": "code",
   "execution_count": 10,
   "metadata": {},
   "outputs": [
    {
     "data": {
      "image/png": "[encoded data removed]",
      "text/plain": [
       "<Figure size 432x288 with 1 Axes>"
      ]
     },
     "metadata": {},
     "output_type": "display_data"
    }
   ],
   "source": [
    "fn = None\n",
    "viz.plot_rocauc_curve(inference.fpr, inference.tpr, inference.rocauc_curve, fn)"
   ]
  },
  {
   "cell_type": "code",
   "execution_count": null,
   "metadata": {},
   "outputs": [],
   "source": []
  }
 ],
 "metadata": {
  "kernelspec": {
   "display_name": "Python 3",
   "language": "python",
   "name": "python3"
  },
  "language_info": {
   "codemirror_mode": {
    "name": "ipython",
    "version": 3
   },
   "file_extension": ".py",
   "mimetype": "text/x-python",
   "name": "python",
   "nbconvert_exporter": "python",
   "pygments_lexer": "ipython3",
   "version": "3.5.2"
  }
 },
 "nbformat": 4,
 "nbformat_minor": 2
}
