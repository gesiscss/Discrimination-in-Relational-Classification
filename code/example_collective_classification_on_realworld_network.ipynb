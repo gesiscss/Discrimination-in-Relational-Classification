{
 "cells": [
  {
   "cell_type": "code",
   "execution_count": 1,
   "metadata": {},
   "outputs": [],
   "source": [
    "__author__ = \"Lisette Espin\"\n",
    "__copyright__ = \"Copyright 2019, GESIS / USC-ISI\"\n",
    "__credits__ = [\"Lisette Espin-Noboa\", \n",
    "               \"Fariba Karimi\", \n",
    "               \"Bruno Ribeiro\",\n",
    "               \"Kristina Lerman\",\n",
    "               \"Claudia Wagner\"]\n",
    "__license__ = \"GPL\"\n",
    "__version__ = \"1.0.1\"\n",
    "__maintainer__ = \"Lisette Espin\"\n",
    "__email__ = \"lisette.espin@gesis.org\"\n",
    "__status__ = \"Development\""
   ]
  },
  {
   "cell_type": "markdown",
   "metadata": {},
   "source": [
    "<h1 style=\"text-align: center;\">Example on Synthetic Network</h1>"
   ]
  },
  {
   "cell_type": "markdown",
   "metadata": {},
   "source": [
    "<h2>Dependencies</h2>"
   ]
  },
  {
   "cell_type": "code",
   "execution_count": 2,
   "metadata": {},
   "outputs": [],
   "source": [
    "%load_ext autoreload\n",
    "%autoreload 2\n",
    "\n",
    "from org.gesis.network.network import Network\n",
    "from org.gesis.sampling.sampling import Sampling\n",
    "from org.gesis.local.local import Local\n",
    "from org.gesis.relational.relational import Relational\n",
    "from org.gesis.inference.inference import Inference\n",
    "from utils import viz\n",
    "from utils import io"
   ]
  },
  {
   "cell_type": "markdown",
   "metadata": {},
   "source": [
    "<h2>Parameters</h2>"
   ]
  },
  {
   "cell_type": "code",
   "execution_count": 3,
   "metadata": {},
   "outputs": [],
   "source": [
    "sampling = \"nodes\"              # subgraph sampling method (nodes, nedges, degree, neighbors, partial_crawls)\n",
    "pseeds = 0.9                    # fraction of nodes to sample \n",
    "epoch = 1                       # epoch (iteration number #)\n",
    "LC = \"prior\"                    # local model\n",
    "RC = \"nBC\"                      # relational model\n",
    "CI = \"relaxation\"               # inference\n",
    "IGNORE = 0                      # IGNORE class value\n",
    "DATAFN = \"../data/Caltech36.gpickle\"   # networkx graph file path\n",
    "OUTPUT = \"../results-individual\"   # directory to store results"
   ]
  },
  {
   "cell_type": "markdown",
   "metadata": {},
   "source": [
    "<h2>1. Network</h2>"
   ]
  },
  {
   "cell_type": "code",
   "execution_count": 4,
   "metadata": {},
   "outputs": [
    {
     "name": "stdout",
     "output_type": "stream",
     "text": [
      "Name: Caltech36\n",
      "Type: Graph\n",
      "Number of nodes: 701\n",
      "Number of edges: 15464\n",
      "Average degree:  44.1198\n",
      "{'km': 50.64912280701754, 'attributes': ['gender'], 'class': 'gender', 'B': 0.3252496433666191, 'm': 1, 'x': None, 'kM': 40.97251585623679, 'fullname': 'Caltech36', 'min_degree': 1, 'n': 701, 'group': ['M', 'm'], 'k': 44.11982881597717, 'b': 0.3252496433666191, 'name': 'Caltech36', 'N': 701, 'labels': [2, 1], 'i': None, 'H': 0.7652598337554604, 'h': 0.6, 'ignoreInt': 0, 'density': 0.0630283268799674, 'e': 15464, 'kind': None}\n"
     ]
    }
   ],
   "source": [
    "net = Network()\n",
    "net.load(DATAFN, IGNORE)\n",
    "net.info()"
   ]
  },
  {
   "cell_type": "markdown",
   "metadata": {},
   "source": [
    "<h2>2. Sampling</h2>"
   ]
  },
  {
   "cell_type": "code",
   "execution_count": 5,
   "metadata": {},
   "outputs": [
    {
     "name": "stdout",
     "output_type": "stream",
     "text": [
      "Name: Caltech36\n",
      "Type: Graph\n",
      "Number of nodes: 631\n",
      "Number of edges: 12830\n",
      "Average degree:  40.6656\n",
      "{'km': 47.07177033492823, 'attributes': ['gender'], 'class': 'gender', 'B': 0.3312202852614897, 'm': 0, 'x': None, 'kM': 37.492890995260666, 'fullname': 'Caltech36', 'labels': [2, 1], 'ignoreInt': 0, 'k': 40.66561014263075, 'name': 'Caltech36', 'N': 631, 'i': None, 'H': 0.7724388180741051, 'h': 0.6, 'method': 'nodes', 'group': ['M', 'm'], 'density': 0.06454858752798531, 'pseeds': 0.9, 'e': 12830, 'epoch': 1, 'kind': None}\n"
     ]
    }
   ],
   "source": [
    "sam = Sampling(sampling, net.G, pseeds, epoch)\n",
    "sam.extract_subgraph()\n",
    "sam.info()"
   ]
  },
  {
   "cell_type": "markdown",
   "metadata": {},
   "source": [
    "<h2>3. Modeling</h2>"
   ]
  },
  {
   "cell_type": "code",
   "execution_count": 6,
   "metadata": {},
   "outputs": [
    {
     "name": "stdout",
     "output_type": "stream",
     "text": [
      "2    0.668246\n",
      "1    0.331754\n",
      "dtype: float64\n"
     ]
    }
   ],
   "source": [
    "local_model = Local(LC)\n",
    "local_model.learn(sam.Gseeds)\n",
    "local_model.info()"
   ]
  },
  {
   "cell_type": "code",
   "execution_count": 7,
   "metadata": {},
   "outputs": [
    {
     "name": "stdout",
     "output_type": "stream",
     "text": [
      "          2         1\n",
      "2  0.636944  0.363056\n",
      "1  0.583841  0.416159\n"
     ]
    }
   ],
   "source": [
    "relational_model = Relational(RC).get_model()\n",
    "relational_model.learn(sam.Gseeds)\n",
    "relational_model.info()"
   ]
  },
  {
   "cell_type": "markdown",
   "metadata": {},
   "source": [
    "<h2>4. Inference</h2>"
   ]
  },
  {
   "cell_type": "code",
   "execution_count": 8,
   "metadata": {
    "scrolled": false
   },
   "outputs": [
    {
     "name": "stdout",
     "output_type": "stream",
     "text": [
      "(1, 1, 0, 0, 1)\n",
      "(0, 0, 0, 0, 1)\n",
      "(0.05315675804014493, 0.26250575528066095, 0.4519038943604107, 0.22957445915622388, 0.4856723405470115)\n",
      "\n",
      "Prediction in 197.99544668197632 seconds\n",
      "ROCAUC: 0.7131062951496387\n",
      "ROCAUC curve: 0.7131062951496387\n",
      "MAE: 0.32857142857142857\n",
      "ccm: 0.47368421052631576\n",
      "ccM: 0.7450980392156863\n",
      "bias: 0.388653683319221\n",
      "\n",
      "Caltech36_nodes/P90_graph.gpickle saved!\n",
      "Caltech36_nodes/P90_samplegraph.gpickle saved!\n",
      "Caltech36_nodes/P90_evaluation.pickle saved!\n"
     ]
    }
   ],
   "source": [
    "inference = Inference(CI)\n",
    "inference.predict(net.G, local_model, relational_model)\n",
    "inference.evaluation()\n",
    "inference.summary()\n",
    "inference.save(OUTPUT)"
   ]
  },
  {
   "cell_type": "markdown",
   "metadata": {},
   "source": [
    "<h2>5. Results</h2>"
   ]
  },
  {
   "cell_type": "code",
   "execution_count": 9,
   "metadata": {},
   "outputs": [
    {
     "data": {
      "image/png": "[encoded data removed]",
      "text/plain": [
       "<Figure size 432x288 with 1 Axes>"
      ]
     },
     "metadata": {},
     "output_type": "display_data"
    }
   ],
   "source": [
    "fn = None\n",
    "viz.plot_rocauc_curve(inference.fpr, inference.tpr, inference.rocauc_curve, fn)"
   ]
  }
 ],
 "metadata": {
  "kernelspec": {
   "display_name": "Python 3",
   "language": "python",
   "name": "python3"
  },
  "language_info": {
   "codemirror_mode": {
    "name": "ipython",
    "version": 3
   },
   "file_extension": ".py",
   "mimetype": "text/x-python",
   "name": "python",
   "nbconvert_exporter": "python",
   "pygments_lexer": "ipython3",
   "version": "3.5.2"
  }
 },
 "nbformat": 4,
 "nbformat_minor": 2
}
