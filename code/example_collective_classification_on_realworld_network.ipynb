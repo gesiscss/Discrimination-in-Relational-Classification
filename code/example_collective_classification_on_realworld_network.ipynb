{
 "cells": [
  {
   "cell_type": "code",
   "execution_count": 1,
   "metadata": {},
   "outputs": [],
   "source": [
    "__author__ = \"Lisette Espin\"\n",
    "__copyright__ = \"Copyright 2019, GESIS / USC-ISI\"\n",
    "__credits__ = [\"Lisette Espin-Noboa\", \n",
    "               \"Fariba Karimi\", \n",
    "               \"Bruno Ribeiro\",\n",
    "               \"Kristina Lerman\",\n",
    "               \"Claudia Wagner\"]\n",
    "__license__ = \"GPL\"\n",
    "__version__ = \"1.0.1\"\n",
    "__maintainer__ = \"Lisette Espin\"\n",
    "__email__ = \"lisette.espin@gesis.org\"\n",
    "__status__ = \"Development\""
   ]
  },
  {
   "cell_type": "markdown",
   "metadata": {},
   "source": [
    "<h1 style=\"text-align: center;\">Example on Real-World Network</h1>"
   ]
  },
  {
   "cell_type": "markdown",
   "metadata": {},
   "source": [
    "<h2>Dependencies</h2>"
   ]
  },
  {
   "cell_type": "code",
   "execution_count": 2,
   "metadata": {},
   "outputs": [],
   "source": [
    "%load_ext autoreload\n",
    "%autoreload 2\n",
    "\n",
    "from org.gesis.network.network import Network\n",
    "from org.gesis.sampling.sampling import Sampling\n",
    "from org.gesis.local.local import Local\n",
    "from org.gesis.relational.relational import Relational\n",
    "from org.gesis.inference.inference import Inference\n",
    "from utils import viz\n",
    "from utils import io"
   ]
  },
  {
   "cell_type": "markdown",
   "metadata": {},
   "source": [
    "<h2>Parameters</h2>"
   ]
  },
  {
   "cell_type": "code",
   "execution_count": 3,
   "metadata": {},
   "outputs": [],
   "source": [
    "sampling = \"nodes\"              # subgraph sampling method (nodes, nedges, degree, neighbors, partial_crawls)\n",
    "pseeds = 0.9                    # fraction of nodes to sample \n",
    "epoch = 1                       # epoch (iteration number #)\n",
    "LC = \"prior\"                    # local model\n",
    "RC = \"nBC\"                      # relational model\n",
    "CI = \"relaxation\"               # inference\n",
    "IGNORE = 0                      # IGNORE class value\n",
    "DATASETS = {'caltech':'Caltech36',\n",
    "            'swarthmore':'Swarthmore42',\n",
    "            'usf':'USF51-2009',\n",
    "            'wikipedia':'Wikipedia'}\n",
    "dataset = 'usf'\n",
    "DATAFN = \"../data/{}.gpickle\".format(DATASETS[dataset])   # networkx graph file path\n",
    "OUTPUT = \"../results-individual\"                         # directory to store results"
   ]
  },
  {
   "cell_type": "markdown",
   "metadata": {},
   "source": [
    "<h2>1. Network</h2>"
   ]
  },
  {
   "cell_type": "code",
   "execution_count": 4,
   "metadata": {},
   "outputs": [
    {
     "name": "stdout",
     "output_type": "stream",
     "text": [
      "Name: USF51\n",
      "Type: Graph\n",
      "Number of nodes: 1705\n",
      "Number of edges: 15597\n",
      "Average degree:  18.2956\n",
      "{'n': 1705, 'ignoreInt': 0, 'i': None, 'H': 0.3491504266836932, 'kind': None, 'km': 17.596516690856312, 'N': 1705, 'group': ['M', 'm'], 'class': 'gender', 'h': 0.5, 'name': 'USF51', 'kM': 18.769685039370078, 'density': 0.010736855148486225, 'm': 1, 'labels': [1, 2], 'k': 18.29560117302053, 'fullname': 'USF51-2009', 'min_degree': 1, 'x': None, 'b': 0.40410557184750734, 'e': 15597, 'attributes': ['status', 'gender', 'major', '2major', 'dorm', 'year', 'highschool'], 'B': 0.40410557184750734}\n"
     ]
    }
   ],
   "source": [
    "net = Network()\n",
    "net.load(DATAFN, IGNORE)\n",
    "net.info()"
   ]
  },
  {
   "cell_type": "markdown",
   "metadata": {},
   "source": [
    "<h2>2. Sampling</h2>"
   ]
  },
  {
   "cell_type": "code",
   "execution_count": 5,
   "metadata": {},
   "outputs": [
    {
     "name": "stdout",
     "output_type": "stream",
     "text": [
      "Name: USF51\n",
      "Type: Graph\n",
      "Number of nodes: 1534\n",
      "Number of edges: 12526\n",
      "Average degree:  16.3312\n",
      "{'ignoreInt': 0, 'i': None, 'H': 0.36043410991625613, 'kind': None, 'km': 15.834405144694534, 'N': 1534, 'group': ['M', 'm'], 'class': 'gender', 'h': 0.5, 'name': 'USF51', 'kM': 16.669956140350877, 'density': 0.01065307264517852, 'pseeds': 0.9, 'm': 0, 'labels': [1, 2], 'k': 16.331160365058672, 'fullname': 'USF51-2009', 'epoch': 1, 'x': None, 'method': 'nodes', 'e': 12526, 'attributes': ['status', 'gender', 'major', '2major', 'dorm', 'year', 'highschool'], 'B': 0.40547588005215124}\n"
     ]
    }
   ],
   "source": [
    "sam = Sampling(sampling, net.G, pseeds, epoch)\n",
    "sam.extract_subgraph()\n",
    "sam.info()"
   ]
  },
  {
   "cell_type": "markdown",
   "metadata": {},
   "source": [
    "<h2>3. Modeling</h2>"
   ]
  },
  {
   "cell_type": "code",
   "execution_count": 6,
   "metadata": {},
   "outputs": [
    {
     "name": "stdout",
     "output_type": "stream",
     "text": [
      "1    0.594401\n",
      "2    0.405599\n",
      "dtype: float64\n"
     ]
    }
   ],
   "source": [
    "local_model = Local(LC)\n",
    "local_model.learn(sam.Gseeds)\n",
    "local_model.info()"
   ]
  },
  {
   "cell_type": "code",
   "execution_count": 7,
   "metadata": {},
   "outputs": [
    {
     "name": "stdout",
     "output_type": "stream",
     "text": [
      "          1         2\n",
      "1  0.549359  0.450641\n",
      "2  0.695564  0.304436\n"
     ]
    }
   ],
   "source": [
    "relational_model = Relational(RC).get_model()\n",
    "relational_model.learn(sam.Gseeds)\n",
    "relational_model.info()"
   ]
  },
  {
   "cell_type": "markdown",
   "metadata": {},
   "source": [
    "<h2>4. Inference</h2>"
   ]
  },
  {
   "cell_type": "code",
   "execution_count": 8,
   "metadata": {
    "scrolled": false
   },
   "outputs": [
    {
     "name": "stdout",
     "output_type": "stream",
     "text": [
      "(0, 1, 1, 0, 0)\n",
      "(0, 0, 0, 0, 1)\n",
      "(0.044612683276661194, 0.29924266168544195, 0.4609550137723381, 0.3000965344809445, 0.3685532239243122)\n",
      "\n",
      "Prediction in 281.28270053863525 seconds\n",
      "ROCAUC: 0.7140499425947188\n",
      "ROCAUC curve: 0.7140499425947188\n",
      "MAE: 0.4327485380116959\n",
      "ccm: 0.5373134328358209\n",
      "ccM: 0.5865384615384616\n",
      "bias: 0.4780998595326268\n",
      "\n",
      "USF51-2009_nodes creating...\n",
      "USF51-2009_nodes created!\n",
      "USF51-2009_nodes/P90_graph.gpickle saved!\n",
      "USF51-2009_nodes/P90_samplegraph.gpickle saved!\n",
      "USF51-2009_nodes/P90_evaluation.pickle saved!\n"
     ]
    }
   ],
   "source": [
    "inference = Inference(CI)\n",
    "inference.predict(net.G, local_model, relational_model)\n",
    "inference.evaluation()\n",
    "inference.summary()\n",
    "inference.save(OUTPUT)"
   ]
  },
  {
   "cell_type": "markdown",
   "metadata": {},
   "source": [
    "<h2>5. Results</h2>"
   ]
  },
  {
   "cell_type": "code",
   "execution_count": 9,
   "metadata": {},
   "outputs": [
    {
     "data": {
      "image/png": "[encoded data removed]",
      "text/plain": [
       "<Figure size 432x288 with 1 Axes>"
      ]
     },
     "metadata": {},
     "output_type": "display_data"
    }
   ],
   "source": [
    "fn = None\n",
    "viz.plot_rocauc_curve(inference.fpr, inference.tpr, inference.rocauc_curve, fn)"
   ]
  }
 ],
 "metadata": {
  "kernelspec": {
   "display_name": "Python 3",
   "language": "python",
   "name": "python3"
  },
  "language_info": {
   "codemirror_mode": {
    "name": "ipython",
    "version": 3
   },
   "file_extension": ".py",
   "mimetype": "text/x-python",
   "name": "python",
   "nbconvert_exporter": "python",
   "pygments_lexer": "ipython3",
   "version": "3.5.2"
  }
 },
 "nbformat": 4,
 "nbformat_minor": 2
}
