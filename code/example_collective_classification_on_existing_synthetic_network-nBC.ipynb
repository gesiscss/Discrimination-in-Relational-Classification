{
 "cells": [
  {
   "cell_type": "code",
   "execution_count": 1,
   "metadata": {},
   "outputs": [],
   "source": [
    "__author__ = \"Lisette Espin\"\n",
    "__copyright__ = \"Copyright 2019, GESIS / USC-ISI\"\n",
    "__credits__ = [\"Lisette Espin-Noboa\", \n",
    "               \"Fariba Karimi\", \n",
    "               \"Bruno Ribeiro\",\n",
    "               \"Kristina Lerman\",\n",
    "               \"Claudia Wagner\"]\n",
    "__license__ = \"GPL\"\n",
    "__version__ = \"1.0.1\"\n",
    "__maintainer__ = \"Lisette Espin\"\n",
    "__email__ = \"lisette.espin@gesis.org\"\n",
    "__status__ = \"Development\""
   ]
  },
  {
   "cell_type": "markdown",
   "metadata": {},
   "source": [
    "<h1 style=\"text-align: center;\">Example on Existing Synthetic Network</h1>\n",
    "<h2 style=\"text-align: center;\">network-only Bayes classifier (nBC) as relational model</h2>"
   ]
  },
  {
   "cell_type": "markdown",
   "metadata": {},
   "source": [
    "<h2>Dependencies</h2>"
   ]
  },
  {
   "cell_type": "code",
   "execution_count": 2,
   "metadata": {},
   "outputs": [],
   "source": [
    "%load_ext autoreload\n",
    "%autoreload 2\n",
    "\n",
    "from org.gesis.network.network import Network\n",
    "from org.gesis.sampling.sampling import Sampling\n",
    "from org.gesis.local.local import Local\n",
    "from org.gesis.relational.relational import Relational\n",
    "from org.gesis.inference.inference import Inference\n",
    "from utils import viz\n",
    "from utils import io"
   ]
  },
  {
   "cell_type": "markdown",
   "metadata": {},
   "source": [
    "<h2>Parameters</h2>"
   ]
  },
  {
   "cell_type": "code",
   "execution_count": 3,
   "metadata": {},
   "outputs": [],
   "source": [
    "kind = \"BAH\"                       # network generative model type\n",
    "sampling = \"nodes\"                 # subgraph sampling method (nodes, nedges, degree, neighbors, partial_crawls)\n",
    "pseeds = 0.3                       # fraction of nodes to sample \n",
    "LC = \"prior\"                       # local model\n",
    "RC = \"nBC\"                         # relational model\n",
    "CI = \"relaxation\"                  # inference\n",
    "N = 500                            # Number of nodes: 500, 2000\n",
    "m = 4                              # minimum degree: 4, 20\n",
    "B = 0.3                            # minority fraction: 0.1, 0.3, 0.5\n",
    "H = 0.9                            # Homophily: 0.0, 0.1, 0.2, ..., 1.0\n",
    "epoch = 1                          # x out of 5 \n",
    "DATAPATH = \"../data/\"              # networkx graph files path\n",
    "OUTPUT = \"../results-individual\"   # directory to store results"
   ]
  },
  {
   "cell_type": "markdown",
   "metadata": {},
   "source": [
    "<h2>1. Network</h2>"
   ]
  },
  {
   "cell_type": "code",
   "execution_count": 4,
   "metadata": {},
   "outputs": [
    {
     "name": "stdout",
     "output_type": "stream",
     "text": [
      "Name: homophilic_barabasi_albert\n",
      "Type: Graph\n",
      "Number of nodes: 500\n",
      "Number of edges: 1984\n",
      "Average degree:   7.9360\n",
      "{'fullname': 'BAH-N500-m4-B0.3-H0.9-i4-x5-h0.9-k7.9-km7.4-kM8.2', 'i': '4', 'group': ['M', 'm'], 'b': 0.3, 'm': '4', 'name': 'homophilic_barabasi_albert', 'kM': 8.154285714285715, 'km': 7.426666666666667, 'labels': ['blue', 'red'], 'class': 'color', 'density': 0.01590380761523046, 'H': None, 'B': '0.3', 'n': 500, 'min_degree': 3, 'attributes': ['color'], 'h': 0.9, 'N': '500', 'k': 7.936, 'kind': None, 'Hmm': None, 'HMM': None, 'e': 1984, 'x': '5'}\n"
     ]
    }
   ],
   "source": [
    "net = Network()\n",
    "net.load(io.get_random_datafn(DATAPATH,kind,N,m,B,H))\n",
    "net.info()"
   ]
  },
  {
   "cell_type": "markdown",
   "metadata": {},
   "source": [
    "<h2>2. Sampling</h2>"
   ]
  },
  {
   "cell_type": "code",
   "execution_count": 5,
   "metadata": {},
   "outputs": [
    {
     "name": "stdout",
     "output_type": "stream",
     "text": [
      "Name: homophilic_barabasi_albert\n",
      "Type: Graph\n",
      "Number of nodes: 150\n",
      "Number of edges: 165\n",
      "Average degree:   2.2000\n",
      "{'fullname': 'BAH-N500-m4-B0.3-H0.9-i4-x5-h0.9-k7.9-km7.4-kM8.2', 'i': '4', 'group': ['M', 'm'], 'N': 150, 'name': 'homophilic_barabasi_albert', 'Hmm': None, 'kM': 2.234234234234234, 'km': 2.1025641025641026, 'labels': ['blue', 'red'], 'pseeds': 0.3, 'density': 0.01476510067114094, 'H': 3.6435334744346632, 'B': 0.26, 'epoch': 1, 'class': 'color', 'attributes': ['color'], 'h': 0.9, 'method': 'nodes', 'k': 2.2, 'kind': None, 'm': 0, 'HMM': None, 'e': 165, 'x': '5'}\n"
     ]
    }
   ],
   "source": [
    "sam = Sampling(sampling, net.G, pseeds, epoch)\n",
    "sam.extract_subgraph()\n",
    "sam.info()"
   ]
  },
  {
   "cell_type": "markdown",
   "metadata": {},
   "source": [
    "<h2>3. Modeling</h2>"
   ]
  },
  {
   "cell_type": "code",
   "execution_count": 6,
   "metadata": {},
   "outputs": [
    {
     "name": "stdout",
     "output_type": "stream",
     "text": [
      "blue    0.736842\n",
      "red     0.263158\n",
      "dtype: float64\n"
     ]
    }
   ],
   "source": [
    "local_model = Local(LC)\n",
    "local_model.learn(sam.Gseeds)\n",
    "local_model.info()"
   ]
  },
  {
   "cell_type": "code",
   "execution_count": 7,
   "metadata": {},
   "outputs": [
    {
     "name": "stdout",
     "output_type": "stream",
     "text": [
      "          blue       red\n",
      "blue  0.932000  0.068000\n",
      "red   0.202381  0.797619\n"
     ]
    }
   ],
   "source": [
    "relational_model = Relational(RC).get_model()\n",
    "relational_model.learn(sam.Gseeds)\n",
    "relational_model.info()"
   ]
  },
  {
   "cell_type": "markdown",
   "metadata": {},
   "source": [
    "<h2>4. Inference</h2>"
   ]
  },
  {
   "cell_type": "code",
   "execution_count": 8,
   "metadata": {
    "scrolled": false
   },
   "outputs": [
    {
     "name": "stdout",
     "output_type": "stream",
     "text": [
      "(0, 0, 0, 0, 0)\n",
      "(0, 0, 0, 0, 0)\n",
      "(2.031687428917419e-10, 2.1204079951156668e-07, 2.476655818576508e-40, 1.5944421643134454e-33, 8.767206625946853e-19)\n",
      "\n",
      "Prediction in 243.0064136981964 seconds\n",
      "ROCAUC: 0.9991895661351728\n",
      "ROCAUC curve: 0.9991895661351728\n",
      "MAE: 0.008571428571428572\n",
      "ccm: 0.990990990990991\n",
      "ccM: 0.9916317991631799\n",
      "bias: 0.4998383938247429\n",
      "\n",
      "BAH-N500-m4-B0.3-H0.9-i4-x5-h0.9-k7.9-km7.4-kM8.2_nodes creating...\n",
      "BAH-N500-m4-B0.3-H0.9-i4-x5-h0.9-k7.9-km7.4-kM8.2_nodes created!\n",
      "BAH-N500-m4-B0.3-H0.9-i4-x5-h0.9-k7.9-km7.4-kM8.2_nodes/P30_graph.gpickle saved!\n",
      "BAH-N500-m4-B0.3-H0.9-i4-x5-h0.9-k7.9-km7.4-kM8.2_nodes/P30_samplegraph.gpickle saved!\n",
      "BAH-N500-m4-B0.3-H0.9-i4-x5-h0.9-k7.9-km7.4-kM8.2_nodes/P30_evaluation.pickle saved!\n"
     ]
    }
   ],
   "source": [
    "inference = Inference(CI)\n",
    "inference.predict(net.G, local_model, relational_model)\n",
    "inference.evaluation()\n",
    "inference.summary()\n",
    "inference.save(OUTPUT)"
   ]
  },
  {
   "cell_type": "markdown",
   "metadata": {},
   "source": [
    "<h2>5. Results</h2>"
   ]
  },
  {
   "cell_type": "code",
   "execution_count": 9,
   "metadata": {},
   "outputs": [
    {
     "data": {
      "image/png": "[encoded data removed]",
      "text/plain": [
       "<Figure size 432x288 with 1 Axes>"
      ]
     },
     "metadata": {},
     "output_type": "display_data"
    }
   ],
   "source": [
    "fn = None\n",
    "viz.plot_rocauc_curve(inference.fpr, inference.tpr, inference.rocauc_curve, fn)"
   ]
  },
  {
   "cell_type": "code",
   "execution_count": null,
   "metadata": {},
   "outputs": [],
   "source": []
  }
 ],
 "metadata": {
  "kernelspec": {
   "display_name": "Python 3",
   "language": "python",
   "name": "python3"
  },
  "language_info": {
   "codemirror_mode": {
    "name": "ipython",
    "version": 3
   },
   "file_extension": ".py",
   "mimetype": "text/x-python",
   "name": "python",
   "nbconvert_exporter": "python",
   "pygments_lexer": "ipython3",
   "version": "3.5.2"
  }
 },
 "nbformat": 4,
 "nbformat_minor": 2
}
