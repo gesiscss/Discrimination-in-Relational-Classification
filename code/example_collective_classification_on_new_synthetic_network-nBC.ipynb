{
 "cells": [
  {
   "cell_type": "code",
   "execution_count": 1,
   "metadata": {},
   "outputs": [],
   "source": [
    "__author__ = \"Lisette Espin\"\n",
    "__copyright__ = \"Copyright 2019, GESIS / USC-ISI\"\n",
    "__credits__ = [\"Lisette Espin-Noboa\", \n",
    "               \"Fariba Karimi\", \n",
    "               \"Bruno Ribeiro\",\n",
    "               \"Kristina Lerman\",\n",
    "               \"Claudia Wagner\"]\n",
    "__license__ = \"GPL\"\n",
    "__version__ = \"1.0.1\"\n",
    "__maintainer__ = \"Lisette Espin\"\n",
    "__email__ = \"lisette.espin@gesis.org\"\n",
    "__status__ = \"Development\""
   ]
  },
  {
   "cell_type": "markdown",
   "metadata": {},
   "source": [
    "<h1 style=\"text-align: center;\">Example on Existing Synthetic Network</h1>\n",
    "<h2 style=\"text-align: center;\">network-only Bayes classifier (nBC) as relational model</h2>"
   ]
  },
  {
   "cell_type": "markdown",
   "metadata": {},
   "source": [
    "<h2>Dependencies</h2>"
   ]
  },
  {
   "cell_type": "code",
   "execution_count": 2,
   "metadata": {},
   "outputs": [],
   "source": [
    "%load_ext autoreload\n",
    "%autoreload 2\n",
    "\n",
    "from org.gesis.network.network import Network\n",
    "from org.gesis.sampling.sampling import Sampling\n",
    "from org.gesis.local.local import Local\n",
    "from org.gesis.relational.relational import Relational\n",
    "from org.gesis.inference.inference import Inference\n",
    "from utils import viz\n",
    "from utils import io"
   ]
  },
  {
   "cell_type": "markdown",
   "metadata": {},
   "source": [
    "<h2>Parameters</h2>"
   ]
  },
  {
   "cell_type": "code",
   "execution_count": 3,
   "metadata": {},
   "outputs": [],
   "source": [
    "kind = \"BAH\"                       # network generative model type\n",
    "N = 2000                           # number of nodes\n",
    "m = 4                              # minimun degree (proxy of density)\n",
    "H = 0.1                            # homophily\n",
    "B = 0.3                            # class balance (minority fraction)\n",
    "sampling = \"nedges\"                # subgraph sampling method (nodes, nedges, degree, neighbors, partial_crawls)\n",
    "pseeds = 0.8                       # fraction of nodes to sample \n",
    "epoch = 1                          # epoch (iteration number #)\n",
    "LC = \"prior\"                       # local model\n",
    "RC = \"nBC\"                         # relational model\n",
    "CI = \"relaxation\"                  # inference\n",
    "OUTPUT = \"../results-individual\"   # directory to store results"
   ]
  },
  {
   "cell_type": "markdown",
   "metadata": {},
   "source": [
    "<h2>1. Network</h2>"
   ]
  },
  {
   "cell_type": "code",
   "execution_count": 9,
   "metadata": {},
   "outputs": [
    {
     "name": "stdout",
     "output_type": "stream",
     "text": [
      "Name: homophilic_barabasi_albert\n",
      "Type: Graph\n",
      "Number of nodes: 2000\n",
      "Number of edges: 7984\n",
      "Average degree:   7.9840\n",
      "{'b': 0.3, 'Hmm': None, 'km': 12.688333333333333, 'labels': ['blue', 'red'], 'attributes': ['color'], 'fullname': 'BAH-N2000-m4-B0.3-H0.1-i1-x1-h0.1-k8.0-km12.7-kM6.0', 'H': 0.1, 'n': 2000, 'e': 7984, 'kind': 'BAH', 'k': 7.984, 'group': ['M', 'm'], 'i': 1, 'N': 2000, 'min_degree': 4, 'class': 'color', 'density': 0.00399399699849925, 'HMM': None, 'kM': 5.9678571428571425, 'B': 0.3, 'h': 0.1, 'name': 'homophilic_barabasi_albert', 'x': 1, 'm': 4}\n"
     ]
    }
   ],
   "source": [
    "net = Network(kind)\n",
    "net.create_network(N=N,m=m,B=B,H=H)\n",
    "net.info()"
   ]
  },
  {
   "cell_type": "markdown",
   "metadata": {},
   "source": [
    "<h2>2. Sampling</h2>"
   ]
  },
  {
   "cell_type": "code",
   "execution_count": 10,
   "metadata": {},
   "outputs": [
    {
     "name": "stdout",
     "output_type": "stream",
     "text": [
      "Name: homophilic_barabasi_albert\n",
      "Type: Graph\n",
      "Number of nodes: 1600\n",
      "Number of edges: 2005\n",
      "Average degree:   2.5063\n",
      "{'Hmm': None, 'method': 'nedges', 'i': 1, 'km': 3.8346456692913384, 'labels': ['blue', 'red'], 'attributes': ['color'], 'fullname': 'BAH-N2000-m4-B0.3-H0.1-i1-x1-h0.1-k8.0-km12.7-kM6.0', 'H': 0.1523326811651722, 'm': 1, 'epoch': 1, 'e': 2005, 'group': ['M', 'm'], 'pseeds': 0.8, 'k': 2.50625, 'N': 1600, 'class': 'color', 'density': 0.001567385866166354, 'HMM': None, 'kM': 1.8882783882783882, 'B': 0.3175, 'h': 0.1, 'name': 'homophilic_barabasi_albert', 'x': 1, 'kind': 'BAH'}\n"
     ]
    }
   ],
   "source": [
    "sam = Sampling(sampling, net.G, pseeds, epoch)\n",
    "sam.extract_subgraph()\n",
    "sam.info()"
   ]
  },
  {
   "cell_type": "markdown",
   "metadata": {},
   "source": [
    "<h2>3. Modeling</h2>"
   ]
  },
  {
   "cell_type": "code",
   "execution_count": 11,
   "metadata": {},
   "outputs": [
    {
     "name": "stdout",
     "output_type": "stream",
     "text": [
      "blue    0.682272\n",
      "red     0.317728\n",
      "dtype: float64\n"
     ]
    }
   ],
   "source": [
    "local_model = Local(LC)\n",
    "local_model.learn(sam.Gseeds)\n",
    "local_model.info()"
   ]
  },
  {
   "cell_type": "code",
   "execution_count": 12,
   "metadata": {},
   "outputs": [
    {
     "name": "stdout",
     "output_type": "stream",
     "text": [
      "          blue       red\n",
      "blue  0.120640  0.879360\n",
      "red   0.930769  0.069231\n"
     ]
    }
   ],
   "source": [
    "relational_model = Relational(RC).get_model()\n",
    "relational_model.learn(sam.Gseeds)\n",
    "relational_model.info()"
   ]
  },
  {
   "cell_type": "markdown",
   "metadata": {},
   "source": [
    "<h2>4. Inference</h2>"
   ]
  },
  {
   "cell_type": "code",
   "execution_count": 13,
   "metadata": {
    "scrolled": false
   },
   "outputs": [
    {
     "name": "stdout",
     "output_type": "stream",
     "text": [
      "(0, 0, 0, 0, 0)\n",
      "(0, 0, 0, 0, 0)\n",
      "(6.6007427252414874e-06, 4.009391965433889e-06, 1.1088962033152915e-07, 1.4085040894653735e-06, 1.7890345735541355e-05)\n",
      "\n",
      "Prediction in 209.2636067867279 seconds\n",
      "ROCAUC: 0.9980590062111802\n",
      "ROCAUC curve: 0.9980590062111802\n",
      "MAE: 0.025\n",
      "ccm: 0.9782608695652174\n",
      "ccM: 0.974025974025974\n",
      "bias: 0.5010845986984815\n",
      "\n",
      "../results-individual creating...\n",
      "../results-individual created!\n",
      "BAH-N2000-m4-B0.3-H0.1-i1-x1-h0.1-k8.0-km12.7-kM6.0_nedges creating...\n",
      "BAH-N2000-m4-B0.3-H0.1-i1-x1-h0.1-k8.0-km12.7-kM6.0_nedges created!\n",
      "BAH-N2000-m4-B0.3-H0.1-i1-x1-h0.1-k8.0-km12.7-kM6.0_nedges/P80_graph.gpickle saved!\n",
      "BAH-N2000-m4-B0.3-H0.1-i1-x1-h0.1-k8.0-km12.7-kM6.0_nedges/P80_samplegraph.gpickle saved!\n",
      "BAH-N2000-m4-B0.3-H0.1-i1-x1-h0.1-k8.0-km12.7-kM6.0_nedges/P80_evaluation.pickle saved!\n"
     ]
    }
   ],
   "source": [
    "inference = Inference(CI)\n",
    "inference.predict(net.G, local_model, relational_model)\n",
    "inference.evaluation()\n",
    "inference.summary()\n",
    "inference.save(OUTPUT)"
   ]
  },
  {
   "cell_type": "markdown",
   "metadata": {},
   "source": [
    "<h2>5. Results</h2>"
   ]
  },
  {
   "cell_type": "code",
   "execution_count": 14,
   "metadata": {},
   "outputs": [
    {
     "data": {
      "image/png": "[encoded data removed]",
      "text/plain": [
       "<Figure size 432x288 with 1 Axes>"
      ]
     },
     "metadata": {},
     "output_type": "display_data"
    }
   ],
   "source": [
    "fn = None\n",
    "viz.plot_rocauc_curve(inference.fpr, inference.tpr, inference.rocauc_curve, fn)"
   ]
  },
  {
   "cell_type": "code",
   "execution_count": null,
   "metadata": {},
   "outputs": [],
   "source": []
  }
 ],
 "metadata": {
  "kernelspec": {
   "display_name": "Python 3",
   "language": "python",
   "name": "python3"
  },
  "language_info": {
   "codemirror_mode": {
    "name": "ipython",
    "version": 3
   },
   "file_extension": ".py",
   "mimetype": "text/x-python",
   "name": "python",
   "nbconvert_exporter": "python",
   "pygments_lexer": "ipython3",
   "version": "3.5.2"
  }
 },
 "nbformat": 4,
 "nbformat_minor": 2
}
